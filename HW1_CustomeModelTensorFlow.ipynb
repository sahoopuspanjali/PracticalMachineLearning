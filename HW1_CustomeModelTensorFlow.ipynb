{
  "nbformat": 4,
  "nbformat_minor": 0,
  "metadata": {
    "colab": {
      "name": "HW1-CustomeModelTensorFlow.ipynb",
      "provenance": [],
      "include_colab_link": true
    },
    "kernelspec": {
      "name": "python3",
      "display_name": "Python 3"
    }
  },
  "cells": [
    {
      "cell_type": "markdown",
      "metadata": {
        "id": "view-in-github",
        "colab_type": "text"
      },
      "source": [
        "<a href=\"https://colab.research.google.com/github/sahoopuspanjali/PracticalMachineLearning/blob/master/HW1_CustomeModelTensorFlow.ipynb\" target=\"_parent\"><img src=\"https://colab.research.google.com/assets/colab-badge.svg\" alt=\"Open In Colab\"/></a>"
      ]
    },
    {
      "cell_type": "code",
      "metadata": {
        "id": "AnCbi5ZAL9vV",
        "colab_type": "code",
        "outputId": "1452e2b5-a96a-4fb5-8db6-32b5ad8c827a",
        "colab": {
          "base_uri": "https://localhost:8080/",
          "height": 615
        }
      },
      "source": [
        "!pip install --upgrade tensorflow\n"
      ],
      "execution_count": 0,
      "outputs": [
        {
          "output_type": "stream",
          "text": [
            "Requirement already up-to-date: tensorflow in /usr/local/lib/python3.6/dist-packages (2.0.0)\n",
            "Requirement already satisfied, skipping upgrade: wheel>=0.26 in /usr/local/lib/python3.6/dist-packages (from tensorflow) (0.33.6)\n",
            "Requirement already satisfied, skipping upgrade: grpcio>=1.8.6 in /usr/local/lib/python3.6/dist-packages (from tensorflow) (1.15.0)\n",
            "Requirement already satisfied, skipping upgrade: absl-py>=0.7.0 in /usr/local/lib/python3.6/dist-packages (from tensorflow) (0.8.1)\n",
            "Requirement already satisfied, skipping upgrade: astor>=0.6.0 in /usr/local/lib/python3.6/dist-packages (from tensorflow) (0.8.0)\n",
            "Requirement already satisfied, skipping upgrade: google-pasta>=0.1.6 in /usr/local/lib/python3.6/dist-packages (from tensorflow) (0.1.7)\n",
            "Requirement already satisfied, skipping upgrade: protobuf>=3.6.1 in /usr/local/lib/python3.6/dist-packages (from tensorflow) (3.10.0)\n",
            "Requirement already satisfied, skipping upgrade: gast==0.2.2 in /usr/local/lib/python3.6/dist-packages (from tensorflow) (0.2.2)\n",
            "Requirement already satisfied, skipping upgrade: keras-applications>=1.0.8 in /usr/local/lib/python3.6/dist-packages (from tensorflow) (1.0.8)\n",
            "Requirement already satisfied, skipping upgrade: tensorflow-estimator<2.1.0,>=2.0.0 in /usr/local/lib/python3.6/dist-packages (from tensorflow) (2.0.1)\n",
            "Requirement already satisfied, skipping upgrade: six>=1.10.0 in /usr/local/lib/python3.6/dist-packages (from tensorflow) (1.12.0)\n",
            "Requirement already satisfied, skipping upgrade: wrapt>=1.11.1 in /usr/local/lib/python3.6/dist-packages (from tensorflow) (1.11.2)\n",
            "Requirement already satisfied, skipping upgrade: keras-preprocessing>=1.0.5 in /usr/local/lib/python3.6/dist-packages (from tensorflow) (1.1.0)\n",
            "Requirement already satisfied, skipping upgrade: opt-einsum>=2.3.2 in /usr/local/lib/python3.6/dist-packages (from tensorflow) (3.1.0)\n",
            "Requirement already satisfied, skipping upgrade: termcolor>=1.1.0 in /usr/local/lib/python3.6/dist-packages (from tensorflow) (1.1.0)\n",
            "Requirement already satisfied, skipping upgrade: tensorboard<2.1.0,>=2.0.0 in /usr/local/lib/python3.6/dist-packages (from tensorflow) (2.0.1)\n",
            "Requirement already satisfied, skipping upgrade: numpy<2.0,>=1.16.0 in /usr/local/lib/python3.6/dist-packages (from tensorflow) (1.17.3)\n",
            "Requirement already satisfied, skipping upgrade: setuptools in /usr/local/lib/python3.6/dist-packages (from protobuf>=3.6.1->tensorflow) (41.4.0)\n",
            "Requirement already satisfied, skipping upgrade: h5py in /usr/local/lib/python3.6/dist-packages (from keras-applications>=1.0.8->tensorflow) (2.8.0)\n",
            "Requirement already satisfied, skipping upgrade: google-auth-oauthlib<0.5,>=0.4.1 in /usr/local/lib/python3.6/dist-packages (from tensorboard<2.1.0,>=2.0.0->tensorflow) (0.4.1)\n",
            "Requirement already satisfied, skipping upgrade: google-auth<2,>=1.6.3 in /usr/local/lib/python3.6/dist-packages (from tensorboard<2.1.0,>=2.0.0->tensorflow) (1.6.3)\n",
            "Requirement already satisfied, skipping upgrade: werkzeug>=0.11.15 in /usr/local/lib/python3.6/dist-packages (from tensorboard<2.1.0,>=2.0.0->tensorflow) (0.16.0)\n",
            "Requirement already satisfied, skipping upgrade: markdown>=2.6.8 in /usr/local/lib/python3.6/dist-packages (from tensorboard<2.1.0,>=2.0.0->tensorflow) (3.1.1)\n",
            "Requirement already satisfied, skipping upgrade: requests-oauthlib>=0.7.0 in /usr/local/lib/python3.6/dist-packages (from google-auth-oauthlib<0.5,>=0.4.1->tensorboard<2.1.0,>=2.0.0->tensorflow) (1.2.0)\n",
            "Requirement already satisfied, skipping upgrade: rsa>=3.1.4 in /usr/local/lib/python3.6/dist-packages (from google-auth<2,>=1.6.3->tensorboard<2.1.0,>=2.0.0->tensorflow) (4.0)\n",
            "Requirement already satisfied, skipping upgrade: pyasn1-modules>=0.2.1 in /usr/local/lib/python3.6/dist-packages (from google-auth<2,>=1.6.3->tensorboard<2.1.0,>=2.0.0->tensorflow) (0.2.7)\n",
            "Requirement already satisfied, skipping upgrade: cachetools>=2.0.0 in /usr/local/lib/python3.6/dist-packages (from google-auth<2,>=1.6.3->tensorboard<2.1.0,>=2.0.0->tensorflow) (3.1.1)\n",
            "Requirement already satisfied, skipping upgrade: requests>=2.0.0 in /usr/local/lib/python3.6/dist-packages (from requests-oauthlib>=0.7.0->google-auth-oauthlib<0.5,>=0.4.1->tensorboard<2.1.0,>=2.0.0->tensorflow) (2.21.0)\n",
            "Requirement already satisfied, skipping upgrade: oauthlib>=3.0.0 in /usr/local/lib/python3.6/dist-packages (from requests-oauthlib>=0.7.0->google-auth-oauthlib<0.5,>=0.4.1->tensorboard<2.1.0,>=2.0.0->tensorflow) (3.1.0)\n",
            "Requirement already satisfied, skipping upgrade: pyasn1>=0.1.3 in /usr/local/lib/python3.6/dist-packages (from rsa>=3.1.4->google-auth<2,>=1.6.3->tensorboard<2.1.0,>=2.0.0->tensorflow) (0.4.7)\n",
            "Requirement already satisfied, skipping upgrade: certifi>=2017.4.17 in /usr/local/lib/python3.6/dist-packages (from requests>=2.0.0->requests-oauthlib>=0.7.0->google-auth-oauthlib<0.5,>=0.4.1->tensorboard<2.1.0,>=2.0.0->tensorflow) (2019.9.11)\n",
            "Requirement already satisfied, skipping upgrade: chardet<3.1.0,>=3.0.2 in /usr/local/lib/python3.6/dist-packages (from requests>=2.0.0->requests-oauthlib>=0.7.0->google-auth-oauthlib<0.5,>=0.4.1->tensorboard<2.1.0,>=2.0.0->tensorflow) (3.0.4)\n",
            "Requirement already satisfied, skipping upgrade: idna<2.9,>=2.5 in /usr/local/lib/python3.6/dist-packages (from requests>=2.0.0->requests-oauthlib>=0.7.0->google-auth-oauthlib<0.5,>=0.4.1->tensorboard<2.1.0,>=2.0.0->tensorflow) (2.8)\n",
            "Requirement already satisfied, skipping upgrade: urllib3<1.25,>=1.21.1 in /usr/local/lib/python3.6/dist-packages (from requests>=2.0.0->requests-oauthlib>=0.7.0->google-auth-oauthlib<0.5,>=0.4.1->tensorboard<2.1.0,>=2.0.0->tensorflow) (1.24.3)\n"
          ],
          "name": "stdout"
        }
      ]
    },
    {
      "cell_type": "code",
      "metadata": {
        "id": "F2oy658HA5HU",
        "colab_type": "code",
        "outputId": "511aebb6-a930-4658-8645-3ebec51effc3",
        "colab": {
          "base_uri": "https://localhost:8080/",
          "height": 34
        }
      },
      "source": [
        "import tensorflow as tf\n",
        "tf.__version__"
      ],
      "execution_count": 0,
      "outputs": [
        {
          "output_type": "execute_result",
          "data": {
            "text/plain": [
              "'2.0.0'"
            ]
          },
          "metadata": {
            "tags": []
          },
          "execution_count": 2
        }
      ]
    },
    {
      "cell_type": "code",
      "metadata": {
        "id": "aT9Fjn_ldHgi",
        "colab_type": "code",
        "colab": {}
      },
      "source": [
        "from tensorflow import keras\n",
        "from tensorflow.keras.layers import Dense\n",
        "from tensorflow.keras.datasets import boston_housing"
      ],
      "execution_count": 0,
      "outputs": []
    },
    {
      "cell_type": "code",
      "metadata": {
        "id": "8dcBeIihdld2",
        "colab_type": "code",
        "colab": {}
      },
      "source": [
        "import pandas as pd\n",
        "import numpy as np"
      ],
      "execution_count": 0,
      "outputs": []
    },
    {
      "cell_type": "markdown",
      "metadata": {
        "id": "reLlxit1LlVw",
        "colab_type": "text"
      },
      "source": [
        "1.Import boston dataset from keras\n",
        "2.devide the data in Train / Test split- print the shape"
      ]
    },
    {
      "cell_type": "code",
      "metadata": {
        "id": "Zv19ijEgazyb",
        "colab_type": "code",
        "outputId": "89a0b721-6945-4e55-d27c-d87006ff85f9",
        "colab": {
          "base_uri": "https://localhost:8080/",
          "height": 85
        }
      },
      "source": [
        "(X_train, y_train), (X_test, y_test) = boston_housing.load_data()\n",
        "print(f'Training data shape : {X_train.shape}')\n",
        "print(f'Testing data shape : {X_test.shape}')\n",
        "print(f'y_train shape : {y_train.shape}')\n",
        "print(f'y_test shape : {y_test.shape}')"
      ],
      "execution_count": 0,
      "outputs": [
        {
          "output_type": "stream",
          "text": [
            "Training data shape : (404, 13)\n",
            "Testing data shape : (102, 13)\n",
            "y_train shape : (404,)\n",
            "y_test shape : (102,)\n"
          ],
          "name": "stdout"
        }
      ]
    },
    {
      "cell_type": "markdown",
      "metadata": {
        "id": "kqmLstUCMBip",
        "colab_type": "text"
      },
      "source": [
        "3.Explore data - print it"
      ]
    },
    {
      "cell_type": "code",
      "metadata": {
        "id": "LPqOjhLjdm3E",
        "colab_type": "code",
        "outputId": "c4e419e5-1279-4721-c80c-095b5edf8e90",
        "colab": {
          "base_uri": "https://localhost:8080/",
          "height": 238
        }
      },
      "source": [
        "print(X_train)"
      ],
      "execution_count": 0,
      "outputs": [
        {
          "output_type": "stream",
          "text": [
            "[[1.23247e+00 0.00000e+00 8.14000e+00 ... 2.10000e+01 3.96900e+02\n",
            "  1.87200e+01]\n",
            " [2.17700e-02 8.25000e+01 2.03000e+00 ... 1.47000e+01 3.95380e+02\n",
            "  3.11000e+00]\n",
            " [4.89822e+00 0.00000e+00 1.81000e+01 ... 2.02000e+01 3.75520e+02\n",
            "  3.26000e+00]\n",
            " ...\n",
            " [3.46600e-02 3.50000e+01 6.06000e+00 ... 1.69000e+01 3.62250e+02\n",
            "  7.83000e+00]\n",
            " [2.14918e+00 0.00000e+00 1.95800e+01 ... 1.47000e+01 2.61950e+02\n",
            "  1.57900e+01]\n",
            " [1.43900e-02 6.00000e+01 2.93000e+00 ... 1.56000e+01 3.76700e+02\n",
            "  4.38000e+00]]\n"
          ],
          "name": "stdout"
        }
      ]
    },
    {
      "cell_type": "code",
      "metadata": {
        "id": "wVDYe45KkSYq",
        "colab_type": "code",
        "outputId": "27ab6715-5e3b-4713-e4c6-87f19254aedf",
        "colab": {
          "base_uri": "https://localhost:8080/",
          "height": 510
        }
      },
      "source": [
        "print(y_train)"
      ],
      "execution_count": 0,
      "outputs": [
        {
          "output_type": "stream",
          "text": [
            "[15.2 42.3 50.  21.1 17.7 18.5 11.3 15.6 15.6 14.4 12.1 17.9 23.1 19.9\n",
            " 15.7  8.8 50.  22.5 24.1 27.5 10.9 30.8 32.9 24.  18.5 13.3 22.9 34.7\n",
            " 16.6 17.5 22.3 16.1 14.9 23.1 34.9 25.  13.9 13.1 20.4 20.  15.2 24.7\n",
            " 22.2 16.7 12.7 15.6 18.4 21.  30.1 15.1 18.7  9.6 31.5 24.8 19.1 22.\n",
            " 14.5 11.  32.  29.4 20.3 24.4 14.6 19.5 14.1 14.3 15.6 10.5  6.3 19.3\n",
            " 19.3 13.4 36.4 17.8 13.5 16.5  8.3 14.3 16.  13.4 28.6 43.5 20.2 22.\n",
            " 23.  20.7 12.5 48.5 14.6 13.4 23.7 50.  21.7 39.8 38.7 22.2 34.9 22.5\n",
            " 31.1 28.7 46.  41.7 21.  26.6 15.  24.4 13.3 21.2 11.7 21.7 19.4 50.\n",
            " 22.8 19.7 24.7 36.2 14.2 18.9 18.3 20.6 24.6 18.2  8.7 44.  10.4 13.2\n",
            " 21.2 37.  30.7 22.9 20.  19.3 31.7 32.  23.1 18.8 10.9 50.  19.6  5.\n",
            " 14.4 19.8 13.8 19.6 23.9 24.5 25.  19.9 17.2 24.6 13.5 26.6 21.4 11.9\n",
            " 22.6 19.6  8.5 23.7 23.1 22.4 20.5 23.6 18.4 35.2 23.1 27.9 20.6 23.7\n",
            " 28.  13.6 27.1 23.6 20.6 18.2 21.7 17.1  8.4 25.3 13.8 22.2 18.4 20.7\n",
            " 31.6 30.5 20.3  8.8 19.2 19.4 23.1 23.  14.8 48.8 22.6 33.4 21.1 13.6\n",
            " 32.2 13.1 23.4 18.9 23.9 11.8 23.3 22.8 19.6 16.7 13.4 22.2 20.4 21.8\n",
            " 26.4 14.9 24.1 23.8 12.3 29.1 21.  19.5 23.3 23.8 17.8 11.5 21.7 19.9\n",
            " 25.  33.4 28.5 21.4 24.3 27.5 33.1 16.2 23.3 48.3 22.9 22.8 13.1 12.7\n",
            " 22.6 15.  15.3 10.5 24.  18.5 21.7 19.5 33.2 23.2  5.  19.1 12.7 22.3\n",
            " 10.2 13.9 16.3 17.  20.1 29.9 17.2 37.3 45.4 17.8 23.2 29.  22.  18.\n",
            " 17.4 34.6 20.1 25.  15.6 24.8 28.2 21.2 21.4 23.8 31.  26.2 17.4 37.9\n",
            " 17.5 20.   8.3 23.9  8.4 13.8  7.2 11.7 17.1 21.6 50.  16.1 20.4 20.6\n",
            " 21.4 20.6 36.5  8.5 24.8 10.8 21.9 17.3 18.9 36.2 14.9 18.2 33.3 21.8\n",
            " 19.7 31.6 24.8 19.4 22.8  7.5 44.8 16.8 18.7 50.  50.  19.5 20.1 50.\n",
            " 17.2 20.8 19.3 41.3 20.4 20.5 13.8 16.5 23.9 20.6 31.5 23.3 16.8 14.\n",
            " 33.8 36.1 12.8 18.3 18.7 19.1 29.  30.1 50.  50.  22.  11.9 37.6 50.\n",
            " 22.7 20.8 23.5 27.9 50.  19.3 23.9 22.6 15.2 21.7 19.2 43.8 20.3 33.2\n",
            " 19.9 22.5 32.7 22.  17.1 19.  15.  16.1 25.1 23.7 28.7 37.2 22.6 16.4\n",
            " 25.  29.8 22.1 17.4 18.1 30.3 17.5 24.7 12.6 26.5 28.7 13.3 10.4 24.4\n",
            " 23.  20.  17.8  7.  11.8 24.4 13.8 19.4 25.2 19.4 19.4 29.1]\n"
          ],
          "name": "stdout"
        }
      ]
    },
    {
      "cell_type": "code",
      "metadata": {
        "id": "JKsL4OkKfJMV",
        "colab_type": "code",
        "outputId": "1c2f6f10-90ad-4b6c-935c-b098dd232ce2",
        "colab": {
          "base_uri": "https://localhost:8080/",
          "height": 119
        }
      },
      "source": [
        "print(f'Training data shape : {X_train.shape}')\n",
        "print(f'Testing data shape : {X_test.shape}')\n",
        "print(f'Training sample : {X_train[0]}')\n",
        "print(f'Testing sample : {X_test[0]}')\n"
      ],
      "execution_count": 0,
      "outputs": [
        {
          "output_type": "stream",
          "text": [
            "Training data shape : (404, 13)\n",
            "Testing data shape : (102, 13)\n",
            "Training sample : [  1.23247   0.        8.14      0.        0.538     6.142    91.7\n",
            "   3.9769    4.      307.       21.      396.9      18.72   ]\n",
            "Testing sample : [ 18.0846   0.      18.1      0.       0.679    6.434  100.       1.8347\n",
            "  24.     666.      20.2     27.25    29.05  ]\n"
          ],
          "name": "stdout"
        }
      ]
    },
    {
      "cell_type": "markdown",
      "metadata": {
        "id": "bcYHBK7jMWjR",
        "colab_type": "text"
      },
      "source": [
        "4.Normalize the X values using sklearn"
      ]
    },
    {
      "cell_type": "code",
      "metadata": {
        "id": "xwHGI5eIgXP6",
        "colab_type": "code",
        "colab": {}
      },
      "source": [
        "from sklearn.preprocessing import MinMaxScaler"
      ],
      "execution_count": 0,
      "outputs": []
    },
    {
      "cell_type": "code",
      "metadata": {
        "id": "vHtYRA1yiCrZ",
        "colab_type": "code",
        "outputId": "ed23c44d-fce9-4e81-a77f-a8ce7e9e66a0",
        "colab": {
          "base_uri": "https://localhost:8080/",
          "height": 238
        }
      },
      "source": [
        "min_max_scaler = MinMaxScaler()\n",
        "X_train_scale = min_max_scaler.fit_transform(X_train)\n",
        "print(X_train_scale)"
      ],
      "execution_count": 0,
      "outputs": [
        {
          "output_type": "stream",
          "text": [
            "[[1.37816304e-02 0.00000000e+00 2.81524927e-01 ... 8.93617021e-01\n",
            "  1.00000000e+00 4.68818985e-01]\n",
            " [1.73654275e-04 8.25000000e-01 5.75513196e-02 ... 2.23404255e-01\n",
            "  9.96167230e-01 3.80794702e-02]\n",
            " [5.49837765e-02 0.00000000e+00 6.46627566e-01 ... 8.08510638e-01\n",
            "  9.46089061e-01 4.22185430e-02]\n",
            " ...\n",
            " [3.18534767e-04 3.50000000e-01 2.05278592e-01 ... 4.57446809e-01\n",
            "  9.12627969e-01 1.68322296e-01]\n",
            " [2.40852297e-02 0.00000000e+00 7.00879765e-01 ... 2.23404255e-01\n",
            "  6.59715568e-01 3.87969095e-01]\n",
            " [9.07048543e-05 6.00000000e-01 9.05425220e-02 ... 3.19148936e-01\n",
            "  9.49064501e-01 7.31236203e-02]]\n"
          ],
          "name": "stdout"
        }
      ]
    },
    {
      "cell_type": "code",
      "metadata": {
        "id": "zgwmJBtBumdY",
        "colab_type": "code",
        "outputId": "53de81f9-6cef-4e12-e6a0-5ee4ec013a12",
        "colab": {
          "base_uri": "https://localhost:8080/",
          "height": 68
        }
      },
      "source": [
        "print(X_train_scale[0])"
      ],
      "execution_count": 0,
      "outputs": [
        {
          "output_type": "stream",
          "text": [
            "[0.01378163 0.         0.28152493 0.         0.31481481 0.49980635\n",
            " 0.91452111 0.29719123 0.13043478 0.22753346 0.89361702 1.\n",
            " 0.46881898]\n"
          ],
          "name": "stdout"
        }
      ]
    },
    {
      "cell_type": "code",
      "metadata": {
        "id": "X8x3Ly9pekzq",
        "colab_type": "code",
        "outputId": "72fd510a-a308-46f2-85ab-22a2a7d367c2",
        "colab": {
          "base_uri": "https://localhost:8080/",
          "height": 68
        }
      },
      "source": [
        "X_test_scale = min_max_scaler.fit_transform(X_test)\n",
        "print(X_test_scale[0])"
      ],
      "execution_count": 0,
      "outputs": [
        {
          "output_type": "stream",
          "text": [
            "[0.72190697 0.         0.63650075 0.         0.59916493 0.39846154\n",
            " 1.         0.0346309  1.         0.91412214 0.87804878 0.00698455\n",
            " 0.90222813]\n"
          ],
          "name": "stdout"
        }
      ]
    },
    {
      "cell_type": "code",
      "metadata": {
        "id": "PBRUqg-cNIaF",
        "colab_type": "code",
        "outputId": "9eed633f-3228-4528-ce77-34b0eeb58042",
        "colab": {
          "base_uri": "https://localhost:8080/",
          "height": 34
        }
      },
      "source": [
        "from tensorflow import keras\n",
        "from keras.models import Sequential\n",
        "from keras.layers import Dense"
      ],
      "execution_count": 0,
      "outputs": [
        {
          "output_type": "stream",
          "text": [
            "Using TensorFlow backend.\n"
          ],
          "name": "stderr"
        }
      ]
    },
    {
      "cell_type": "markdown",
      "metadata": {
        "id": "wBcfO_5JNuTX",
        "colab_type": "text"
      },
      "source": [
        "Configuring the Model"
      ]
    },
    {
      "cell_type": "code",
      "metadata": {
        "id": "9pQ8MHKlikBz",
        "colab_type": "code",
        "colab": {}
      },
      "source": [
        "inputs = keras.Input(shape=(13,))\n",
        "x = keras.layers.Dense(32, activation='relu')(inputs)\n",
        "y = keras.layers.Dense(32, activation='relu')(x)\n",
        "outputs = keras.layers.Dense(1, activation='sigmoid')(y)\n",
        "model1 = keras.Model(inputs, outputs)"
      ],
      "execution_count": 0,
      "outputs": []
    },
    {
      "cell_type": "code",
      "metadata": {
        "id": "9J4ku_Mxk2Wb",
        "colab_type": "code",
        "outputId": "6dcc058b-b5e5-4f44-a004-7b44b72e0966",
        "colab": {
          "base_uri": "https://localhost:8080/",
          "height": 1734
        }
      },
      "source": [
        "model1.compile(loss='mse',optimizer='adam')\n",
        "h1 = model1.fit(X_train_scale, y_train,batch_size=64, epochs=50,validation_data=(X_test_scale, y_test) )"
      ],
      "execution_count": 0,
      "outputs": [
        {
          "output_type": "stream",
          "text": [
            "Train on 404 samples, validate on 102 samples\n",
            "Epoch 1/50\n",
            "404/404 [==============================] - 1s 2ms/sample - loss: 567.9714 - val_loss: 595.3701\n",
            "Epoch 2/50\n",
            "404/404 [==============================] - 0s 101us/sample - loss: 565.2249 - val_loss: 592.4893\n",
            "Epoch 3/50\n",
            "404/404 [==============================] - 0s 98us/sample - loss: 562.5291 - val_loss: 589.6736\n",
            "Epoch 4/50\n",
            "404/404 [==============================] - 0s 107us/sample - loss: 559.7320 - val_loss: 586.7731\n",
            "Epoch 5/50\n",
            "404/404 [==============================] - 0s 107us/sample - loss: 556.8720 - val_loss: 583.8334\n",
            "Epoch 6/50\n",
            "404/404 [==============================] - 0s 108us/sample - loss: 554.0053 - val_loss: 580.9863\n",
            "Epoch 7/50\n",
            "404/404 [==============================] - 0s 115us/sample - loss: 551.3487 - val_loss: 578.4484\n",
            "Epoch 8/50\n",
            "404/404 [==============================] - 0s 105us/sample - loss: 549.0583 - val_loss: 576.3598\n",
            "Epoch 9/50\n",
            "404/404 [==============================] - 0s 103us/sample - loss: 547.1739 - val_loss: 574.7360\n",
            "Epoch 10/50\n",
            "404/404 [==============================] - 0s 108us/sample - loss: 545.7251 - val_loss: 573.5448\n",
            "Epoch 11/50\n",
            "404/404 [==============================] - 0s 102us/sample - loss: 544.7004 - val_loss: 572.6789\n",
            "Epoch 12/50\n",
            "404/404 [==============================] - 0s 92us/sample - loss: 543.9417 - val_loss: 572.0762\n",
            "Epoch 13/50\n",
            "404/404 [==============================] - 0s 106us/sample - loss: 543.4534 - val_loss: 571.6724\n",
            "Epoch 14/50\n",
            "404/404 [==============================] - 0s 109us/sample - loss: 543.1361 - val_loss: 571.4117\n",
            "Epoch 15/50\n",
            "404/404 [==============================] - 0s 101us/sample - loss: 542.9255 - val_loss: 571.2442\n",
            "Epoch 16/50\n",
            "404/404 [==============================] - 0s 99us/sample - loss: 542.7967 - val_loss: 571.1312\n",
            "Epoch 17/50\n",
            "404/404 [==============================] - 0s 105us/sample - loss: 542.7074 - val_loss: 571.0530\n",
            "Epoch 18/50\n",
            "404/404 [==============================] - 0s 100us/sample - loss: 542.6455 - val_loss: 570.9954\n",
            "Epoch 19/50\n",
            "404/404 [==============================] - 0s 99us/sample - loss: 542.5989 - val_loss: 570.9500\n",
            "Epoch 20/50\n",
            "404/404 [==============================] - 0s 100us/sample - loss: 542.5624 - val_loss: 570.9130\n",
            "Epoch 21/50\n",
            "404/404 [==============================] - 0s 100us/sample - loss: 542.5328 - val_loss: 570.8820\n",
            "Epoch 22/50\n",
            "404/404 [==============================] - 0s 104us/sample - loss: 542.5087 - val_loss: 570.8561\n",
            "Epoch 23/50\n",
            "404/404 [==============================] - 0s 103us/sample - loss: 542.4883 - val_loss: 570.8349\n",
            "Epoch 24/50\n",
            "404/404 [==============================] - 0s 101us/sample - loss: 542.4718 - val_loss: 570.8177\n",
            "Epoch 25/50\n",
            "404/404 [==============================] - 0s 106us/sample - loss: 542.4580 - val_loss: 570.8035\n",
            "Epoch 26/50\n",
            "404/404 [==============================] - 0s 107us/sample - loss: 542.4470 - val_loss: 570.7915\n",
            "Epoch 27/50\n",
            "404/404 [==============================] - 0s 108us/sample - loss: 542.4378 - val_loss: 570.7813\n",
            "Epoch 28/50\n",
            "404/404 [==============================] - 0s 104us/sample - loss: 542.4300 - val_loss: 570.7729\n",
            "Epoch 29/50\n",
            "404/404 [==============================] - 0s 108us/sample - loss: 542.4234 - val_loss: 570.7654\n",
            "Epoch 30/50\n",
            "404/404 [==============================] - 0s 108us/sample - loss: 542.4178 - val_loss: 570.7591\n",
            "Epoch 31/50\n",
            "404/404 [==============================] - 0s 100us/sample - loss: 542.4130 - val_loss: 570.7537\n",
            "Epoch 32/50\n",
            "404/404 [==============================] - 0s 109us/sample - loss: 542.4088 - val_loss: 570.7489\n",
            "Epoch 33/50\n",
            "404/404 [==============================] - 0s 106us/sample - loss: 542.4051 - val_loss: 570.7447\n",
            "Epoch 34/50\n",
            "404/404 [==============================] - 0s 134us/sample - loss: 542.4020 - val_loss: 570.7409\n",
            "Epoch 35/50\n",
            "404/404 [==============================] - 0s 110us/sample - loss: 542.3991 - val_loss: 570.7377\n",
            "Epoch 36/50\n",
            "404/404 [==============================] - 0s 130us/sample - loss: 542.3967 - val_loss: 570.7348\n",
            "Epoch 37/50\n",
            "404/404 [==============================] - 0s 114us/sample - loss: 542.3945 - val_loss: 570.7322\n",
            "Epoch 38/50\n",
            "404/404 [==============================] - 0s 106us/sample - loss: 542.3927 - val_loss: 570.7299\n",
            "Epoch 39/50\n",
            "404/404 [==============================] - 0s 114us/sample - loss: 542.3910 - val_loss: 570.7279\n",
            "Epoch 40/50\n",
            "404/404 [==============================] - 0s 112us/sample - loss: 542.3894 - val_loss: 570.7260\n",
            "Epoch 41/50\n",
            "404/404 [==============================] - 0s 104us/sample - loss: 542.3880 - val_loss: 570.7242\n",
            "Epoch 42/50\n",
            "404/404 [==============================] - 0s 101us/sample - loss: 542.3867 - val_loss: 570.7227\n",
            "Epoch 43/50\n",
            "404/404 [==============================] - 0s 114us/sample - loss: 542.3856 - val_loss: 570.7213\n",
            "Epoch 44/50\n",
            "404/404 [==============================] - 0s 111us/sample - loss: 542.3846 - val_loss: 570.7200\n",
            "Epoch 45/50\n",
            "404/404 [==============================] - 0s 105us/sample - loss: 542.3837 - val_loss: 570.7189\n",
            "Epoch 46/50\n",
            "404/404 [==============================] - 0s 109us/sample - loss: 542.3828 - val_loss: 570.7179\n",
            "Epoch 47/50\n",
            "404/404 [==============================] - 0s 102us/sample - loss: 542.3821 - val_loss: 570.7169\n",
            "Epoch 48/50\n",
            "404/404 [==============================] - 0s 97us/sample - loss: 542.3814 - val_loss: 570.7161\n",
            "Epoch 49/50\n",
            "404/404 [==============================] - 0s 107us/sample - loss: 542.3808 - val_loss: 570.7153\n",
            "Epoch 50/50\n",
            "404/404 [==============================] - 0s 102us/sample - loss: 542.3802 - val_loss: 570.7145\n"
          ],
          "name": "stdout"
        }
      ]
    },
    {
      "cell_type": "markdown",
      "metadata": {
        "id": "JasYuErFOJw3",
        "colab_type": "text"
      },
      "source": [
        "5.Create custom activation function\n"
      ]
    },
    {
      "cell_type": "code",
      "metadata": {
        "id": "jwcdzx3wX5C4",
        "colab_type": "code",
        "colab": {}
      },
      "source": [
        "def my_sigmoid(x):\n",
        "    return (tf.sigmoid(x) * 5) - 1\n",
        "\n",
        "def my_relu(z): # return value is just max of 0 and z\n",
        "    return tf.maximum(0.,z)\n"
      ],
      "execution_count": 0,
      "outputs": []
    },
    {
      "cell_type": "markdown",
      "metadata": {
        "id": "cy2ALhJ7rJgi",
        "colab_type": "text"
      },
      "source": [
        "6.Create custom initializer "
      ]
    },
    {
      "cell_type": "code",
      "metadata": {
        "id": "lD_0TC5HrMpF",
        "colab_type": "code",
        "colab": {}
      },
      "source": [
        "def my_glorot_initializer(shape, dtype=tf.float32):\n",
        "    stddev = tf.sqrt(2. / (shape[0] + shape[1]))\n",
        "    return tf.random.normal(shape, stddev=stddev, dtype=dtype)"
      ],
      "execution_count": 0,
      "outputs": []
    },
    {
      "cell_type": "markdown",
      "metadata": {
        "id": "ao25oiaPrXq5",
        "colab_type": "text"
      },
      "source": [
        "Building model with custom activation function and Custom initializer"
      ]
    },
    {
      "cell_type": "code",
      "metadata": {
        "id": "tbNjkQgNZSBo",
        "colab_type": "code",
        "colab": {}
      },
      "source": [
        "inputs = keras.Input(shape=(13,))\n",
        "x = keras.layers.Dense(32, activation=my_relu, \n",
        "                           kernel_initializer=my_glorot_initializer)(inputs)\n",
        "y = keras.layers.Dense(32, activation=my_relu,\n",
        "                           kernel_initializer=my_glorot_initializer)(x)\n",
        "outputs = keras.layers.Dense(1, activation=my_sigmoid)(y)\n",
        "\n",
        "model = keras.Model(inputs, outputs)"
      ],
      "execution_count": 0,
      "outputs": []
    },
    {
      "cell_type": "markdown",
      "metadata": {
        "id": "UoEWNvBJN-6p",
        "colab_type": "text"
      },
      "source": [
        "7.Create custom loss"
      ]
    },
    {
      "cell_type": "code",
      "metadata": {
        "id": "qu7bbhZ_wLcd",
        "colab_type": "code",
        "colab": {}
      },
      "source": [
        "def huber_fn(y_true, y_pred):\n",
        "    error = y_true - y_pred\n",
        "    is_small_error = tf.abs(error) < 1\n",
        "    squared_loss = tf.square(error) / 2\n",
        "    linear_loss  = tf.abs(error) - 0.9\n",
        "    return tf.where(is_small_error, squared_loss, linear_loss)"
      ],
      "execution_count": 0,
      "outputs": []
    },
    {
      "cell_type": "markdown",
      "metadata": {
        "id": "7EwSsgTmPzez",
        "colab_type": "text"
      },
      "source": [
        "8.Train your model using your custom functions"
      ]
    },
    {
      "cell_type": "code",
      "metadata": {
        "id": "Bx8aKFh3XunM",
        "colab_type": "code",
        "outputId": "bcca78f9-4bd3-446d-e698-e7e84eead448",
        "colab": {
          "base_uri": "https://localhost:8080/",
          "height": 1734
        }
      },
      "source": [
        "model.compile(loss=huber_fn, optimizer=\"nadam\")\n",
        "h = model.fit(X_train_scale, y_train,batch_size=64, epochs=50, validation_split=0.2)"
      ],
      "execution_count": 0,
      "outputs": [
        {
          "output_type": "stream",
          "text": [
            "Train on 323 samples, validate on 81 samples\n",
            "Epoch 1/50\n",
            "323/323 [==============================] - 1s 3ms/sample - loss: 19.3627 - val_loss: 20.8148\n",
            "Epoch 2/50\n",
            "323/323 [==============================] - 0s 101us/sample - loss: 19.1657 - val_loss: 20.6002\n",
            "Epoch 3/50\n",
            "323/323 [==============================] - 0s 81us/sample - loss: 18.9287 - val_loss: 20.3300\n",
            "Epoch 4/50\n",
            "323/323 [==============================] - 0s 91us/sample - loss: 18.6387 - val_loss: 20.0188\n",
            "Epoch 5/50\n",
            "323/323 [==============================] - 0s 88us/sample - loss: 18.3193 - val_loss: 19.6999\n",
            "Epoch 6/50\n",
            "323/323 [==============================] - 0s 94us/sample - loss: 18.0110 - val_loss: 19.4236\n",
            "Epoch 7/50\n",
            "323/323 [==============================] - 0s 88us/sample - loss: 17.7594 - val_loss: 19.2206\n",
            "Epoch 8/50\n",
            "323/323 [==============================] - 0s 91us/sample - loss: 17.5820 - val_loss: 19.0793\n",
            "Epoch 9/50\n",
            "323/323 [==============================] - 0s 95us/sample - loss: 17.4611 - val_loss: 18.9876\n",
            "Epoch 10/50\n",
            "323/323 [==============================] - 0s 85us/sample - loss: 17.3838 - val_loss: 18.9272\n",
            "Epoch 11/50\n",
            "323/323 [==============================] - 0s 89us/sample - loss: 17.3334 - val_loss: 18.8854\n",
            "Epoch 12/50\n",
            "323/323 [==============================] - 0s 90us/sample - loss: 17.2982 - val_loss: 18.8554\n",
            "Epoch 13/50\n",
            "323/323 [==============================] - 0s 98us/sample - loss: 17.2729 - val_loss: 18.8343\n",
            "Epoch 14/50\n",
            "323/323 [==============================] - 0s 93us/sample - loss: 17.2553 - val_loss: 18.8188\n",
            "Epoch 15/50\n",
            "323/323 [==============================] - 0s 97us/sample - loss: 17.2423 - val_loss: 18.8072\n",
            "Epoch 16/50\n",
            "323/323 [==============================] - 0s 92us/sample - loss: 17.2325 - val_loss: 18.7985\n",
            "Epoch 17/50\n",
            "323/323 [==============================] - 0s 94us/sample - loss: 17.2253 - val_loss: 18.7915\n",
            "Epoch 18/50\n",
            "323/323 [==============================] - 0s 87us/sample - loss: 17.2195 - val_loss: 18.7861\n",
            "Epoch 19/50\n",
            "323/323 [==============================] - 0s 88us/sample - loss: 17.2149 - val_loss: 18.7816\n",
            "Epoch 20/50\n",
            "323/323 [==============================] - 0s 94us/sample - loss: 17.2111 - val_loss: 18.7778\n",
            "Epoch 21/50\n",
            "323/323 [==============================] - 0s 90us/sample - loss: 17.2079 - val_loss: 18.7747\n",
            "Epoch 22/50\n",
            "323/323 [==============================] - 0s 88us/sample - loss: 17.2053 - val_loss: 18.7721\n",
            "Epoch 23/50\n",
            "323/323 [==============================] - 0s 92us/sample - loss: 17.2031 - val_loss: 18.7698\n",
            "Epoch 24/50\n",
            "323/323 [==============================] - 0s 88us/sample - loss: 17.2012 - val_loss: 18.7678\n",
            "Epoch 25/50\n",
            "323/323 [==============================] - 0s 92us/sample - loss: 17.1996 - val_loss: 18.7661\n",
            "Epoch 26/50\n",
            "323/323 [==============================] - 0s 131us/sample - loss: 17.1981 - val_loss: 18.7645\n",
            "Epoch 27/50\n",
            "323/323 [==============================] - 0s 128us/sample - loss: 17.1968 - val_loss: 18.7632\n",
            "Epoch 28/50\n",
            "323/323 [==============================] - 0s 135us/sample - loss: 17.1957 - val_loss: 18.7620\n",
            "Epoch 29/50\n",
            "323/323 [==============================] - 0s 143us/sample - loss: 17.1947 - val_loss: 18.7609\n",
            "Epoch 30/50\n",
            "323/323 [==============================] - 0s 132us/sample - loss: 17.1938 - val_loss: 18.7600\n",
            "Epoch 31/50\n",
            "323/323 [==============================] - 0s 116us/sample - loss: 17.1930 - val_loss: 18.7591\n",
            "Epoch 32/50\n",
            "323/323 [==============================] - 0s 155us/sample - loss: 17.1923 - val_loss: 18.7583\n",
            "Epoch 33/50\n",
            "323/323 [==============================] - 0s 128us/sample - loss: 17.1916 - val_loss: 18.7575\n",
            "Epoch 34/50\n",
            "323/323 [==============================] - 0s 142us/sample - loss: 17.1910 - val_loss: 18.7569\n",
            "Epoch 35/50\n",
            "323/323 [==============================] - 0s 127us/sample - loss: 17.1904 - val_loss: 18.7562\n",
            "Epoch 36/50\n",
            "323/323 [==============================] - 0s 126us/sample - loss: 17.1899 - val_loss: 18.7557\n",
            "Epoch 37/50\n",
            "323/323 [==============================] - 0s 128us/sample - loss: 17.1894 - val_loss: 18.7551\n",
            "Epoch 38/50\n",
            "323/323 [==============================] - 0s 129us/sample - loss: 17.1890 - val_loss: 18.7546\n",
            "Epoch 39/50\n",
            "323/323 [==============================] - 0s 121us/sample - loss: 17.1886 - val_loss: 18.7541\n",
            "Epoch 40/50\n",
            "323/323 [==============================] - 0s 123us/sample - loss: 17.1882 - val_loss: 18.7537\n",
            "Epoch 41/50\n",
            "323/323 [==============================] - 0s 127us/sample - loss: 17.1879 - val_loss: 18.7534\n",
            "Epoch 42/50\n",
            "323/323 [==============================] - 0s 137us/sample - loss: 17.1876 - val_loss: 18.7530\n",
            "Epoch 43/50\n",
            "323/323 [==============================] - 0s 129us/sample - loss: 17.1873 - val_loss: 18.7527\n",
            "Epoch 44/50\n",
            "323/323 [==============================] - 0s 131us/sample - loss: 17.1870 - val_loss: 18.7524\n",
            "Epoch 45/50\n",
            "323/323 [==============================] - 0s 137us/sample - loss: 17.1868 - val_loss: 18.7522\n",
            "Epoch 46/50\n",
            "323/323 [==============================] - 0s 126us/sample - loss: 17.1866 - val_loss: 18.7519\n",
            "Epoch 47/50\n",
            "323/323 [==============================] - 0s 131us/sample - loss: 17.1864 - val_loss: 18.7517\n",
            "Epoch 48/50\n",
            "323/323 [==============================] - 0s 126us/sample - loss: 17.1862 - val_loss: 18.7514\n",
            "Epoch 49/50\n",
            "323/323 [==============================] - 0s 133us/sample - loss: 17.1860 - val_loss: 18.7512\n",
            "Epoch 50/50\n",
            "323/323 [==============================] - 0s 124us/sample - loss: 17.1858 - val_loss: 18.7510\n"
          ],
          "name": "stdout"
        }
      ]
    },
    {
      "cell_type": "markdown",
      "metadata": {
        "id": "-3aWAHqqSHxn",
        "colab_type": "text"
      },
      "source": [
        "9.Visualize the history of your training"
      ]
    },
    {
      "cell_type": "code",
      "metadata": {
        "id": "5xlWcDLJaF9a",
        "colab_type": "code",
        "outputId": "c521dbd1-9e9e-450e-e02e-164c67e8cb35",
        "colab": {
          "base_uri": "https://localhost:8080/",
          "height": 281
        }
      },
      "source": [
        "import matplotlib.pyplot as plt\n",
        "plt.title('Loss / Mean Squared Error')\n",
        "plt.plot(h.history['loss'])\n",
        "plt.plot(h.history['val_loss'])\n",
        "plt.show()"
      ],
      "execution_count": 0,
      "outputs": [
        {
          "output_type": "display_data",
          "data": {
            "image/png": "[encoded data removed]",
            "text/plain": [
              "<Figure size 432x288 with 1 Axes>"
            ]
          },
          "metadata": {
            "tags": []
          }
        }
      ]
    },
    {
      "cell_type": "code",
      "metadata": {
        "id": "jnDb2C-lg96m",
        "colab_type": "code",
        "colab": {}
      },
      "source": [
        ""
      ],
      "execution_count": 0,
      "outputs": []
    }
  ]
}