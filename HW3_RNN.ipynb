{
  "nbformat": 4,
  "nbformat_minor": 0,
  "metadata": {
    "colab": {
      "name": "HW3_RNN.ipynb",
      "provenance": [],
      "collapsed_sections": [],
      "include_colab_link": true
    },
    "kernelspec": {
      "name": "python3",
      "display_name": "Python 3"
    },
    "accelerator": "GPU"
  },
  "cells": [
    {
      "cell_type": "markdown",
      "metadata": {
        "id": "view-in-github",
        "colab_type": "text"
      },
      "source": [
        "<a href=\"https://colab.research.google.com/github/sahoopuspanjali/PracticalMachineLearning/blob/master/HW3_RNN.ipynb\" target=\"_parent\"><img src=\"https://colab.research.google.com/assets/colab-badge.svg\" alt=\"Open In Colab\"/></a>"
      ]
    },
    {
      "cell_type": "code",
      "metadata": {
        "id": "bQJaHIt_eRJZ",
        "colab_type": "code",
        "colab": {}
      },
      "source": [
        "!pip install --upgrade tensorflow"
      ],
      "execution_count": 0,
      "outputs": []
    },
    {
      "cell_type": "code",
      "metadata": {
        "id": "oVzxjF0ErlaH",
        "colab_type": "code",
        "outputId": "c1f65eb4-736b-4b66-8abb-a64cd354981f",
        "colab": {
          "base_uri": "https://localhost:8080/",
          "height": 34
        }
      },
      "source": [
        "import numpy as np\n",
        "import matplotlib.pyplot as plt\n",
        "from tensorflow import keras\n",
        "from keras.layers import Dense, LSTM, SimpleRNN\n",
        "from keras.models import Sequential\n",
        "from keras.optimizers import Adam\n",
        "from sklearn.preprocessing import MinMaxScaler\n",
        "from sklearn.model_selection import train_test_split\n",
        "from tqdm import tqdm_notebook"
      ],
      "execution_count": 0,
      "outputs": [
        {
          "output_type": "stream",
          "text": [
            "Using TensorFlow backend.\n"
          ],
          "name": "stderr"
        }
      ]
    },
    {
      "cell_type": "code",
      "metadata": {
        "id": "wBn-Uorf01RS",
        "colab_type": "code",
        "colab": {}
      },
      "source": [
        "!pip install quandl"
      ],
      "execution_count": 0,
      "outputs": []
    },
    {
      "cell_type": "code",
      "metadata": {
        "id": "e8PV67yU1f3i",
        "colab_type": "code",
        "colab": {}
      },
      "source": [
        "import quandl\n",
        "mydata = quandl.get(\"WIKI/AAPL\", api_key= '95xc86L7e41gzuatEQMy' )\n"
      ],
      "execution_count": 0,
      "outputs": []
    },
    {
      "cell_type": "code",
      "metadata": {
        "id": "ieDxVB9u2zky",
        "colab_type": "code",
        "outputId": "4e0c4fbf-d77d-4981-8497-9fecfcd5bb55",
        "colab": {
          "base_uri": "https://localhost:8080/",
          "height": 450
        }
      },
      "source": [
        "mydata"
      ],
      "execution_count": 0,
      "outputs": [
        {
          "output_type": "execute_result",
          "data": {
            "text/html": [
              "<div>\n",
              "<style scoped>\n",
              "    .dataframe tbody tr th:only-of-type {\n",
              "        vertical-align: middle;\n",
              "    }\n",
              "\n",
              "    .dataframe tbody tr th {\n",
              "        vertical-align: top;\n",
              "    }\n",
              "\n",
              "    .dataframe thead th {\n",
              "        text-align: right;\n",
              "    }\n",
              "</style>\n",
              "<table border=\"1\" class=\"dataframe\">\n",
              "  <thead>\n",
              "    <tr style=\"text-align: right;\">\n",
              "      <th></th>\n",
              "      <th>Open</th>\n",
              "      <th>High</th>\n",
              "      <th>Low</th>\n",
              "      <th>Close</th>\n",
              "      <th>Volume</th>\n",
              "      <th>Ex-Dividend</th>\n",
              "      <th>Split Ratio</th>\n",
              "      <th>Adj. Open</th>\n",
              "      <th>Adj. High</th>\n",
              "      <th>Adj. Low</th>\n",
              "      <th>Adj. Close</th>\n",
              "      <th>Adj. Volume</th>\n",
              "    </tr>\n",
              "    <tr>\n",
              "      <th>Date</th>\n",
              "      <th></th>\n",
              "      <th></th>\n",
              "      <th></th>\n",
              "      <th></th>\n",
              "      <th></th>\n",
              "      <th></th>\n",
              "      <th></th>\n",
              "      <th></th>\n",
              "      <th></th>\n",
              "      <th></th>\n",
              "      <th></th>\n",
              "      <th></th>\n",
              "    </tr>\n",
              "  </thead>\n",
              "  <tbody>\n",
              "    <tr>\n",
              "      <th>1980-12-12</th>\n",
              "      <td>28.75</td>\n",
              "      <td>28.87</td>\n",
              "      <td>28.75</td>\n",
              "      <td>28.750</td>\n",
              "      <td>2093900.0</td>\n",
              "      <td>0.0</td>\n",
              "      <td>1.0</td>\n",
              "      <td>0.422706</td>\n",
              "      <td>0.424470</td>\n",
              "      <td>0.422706</td>\n",
              "      <td>0.422706</td>\n",
              "      <td>117258400.0</td>\n",
              "    </tr>\n",
              "    <tr>\n",
              "      <th>1980-12-15</th>\n",
              "      <td>27.38</td>\n",
              "      <td>27.38</td>\n",
              "      <td>27.25</td>\n",
              "      <td>27.250</td>\n",
              "      <td>785200.0</td>\n",
              "      <td>0.0</td>\n",
              "      <td>1.0</td>\n",
              "      <td>0.402563</td>\n",
              "      <td>0.402563</td>\n",
              "      <td>0.400652</td>\n",
              "      <td>0.400652</td>\n",
              "      <td>43971200.0</td>\n",
              "    </tr>\n",
              "    <tr>\n",
              "      <th>1980-12-16</th>\n",
              "      <td>25.37</td>\n",
              "      <td>25.37</td>\n",
              "      <td>25.25</td>\n",
              "      <td>25.250</td>\n",
              "      <td>472000.0</td>\n",
              "      <td>0.0</td>\n",
              "      <td>1.0</td>\n",
              "      <td>0.373010</td>\n",
              "      <td>0.373010</td>\n",
              "      <td>0.371246</td>\n",
              "      <td>0.371246</td>\n",
              "      <td>26432000.0</td>\n",
              "    </tr>\n",
              "    <tr>\n",
              "      <th>1980-12-17</th>\n",
              "      <td>25.87</td>\n",
              "      <td>26.00</td>\n",
              "      <td>25.87</td>\n",
              "      <td>25.870</td>\n",
              "      <td>385900.0</td>\n",
              "      <td>0.0</td>\n",
              "      <td>1.0</td>\n",
              "      <td>0.380362</td>\n",
              "      <td>0.382273</td>\n",
              "      <td>0.380362</td>\n",
              "      <td>0.380362</td>\n",
              "      <td>21610400.0</td>\n",
              "    </tr>\n",
              "    <tr>\n",
              "      <th>1980-12-18</th>\n",
              "      <td>26.63</td>\n",
              "      <td>26.75</td>\n",
              "      <td>26.63</td>\n",
              "      <td>26.630</td>\n",
              "      <td>327900.0</td>\n",
              "      <td>0.0</td>\n",
              "      <td>1.0</td>\n",
              "      <td>0.391536</td>\n",
              "      <td>0.393300</td>\n",
              "      <td>0.391536</td>\n",
              "      <td>0.391536</td>\n",
              "      <td>18362400.0</td>\n",
              "    </tr>\n",
              "    <tr>\n",
              "      <th>...</th>\n",
              "      <td>...</td>\n",
              "      <td>...</td>\n",
              "      <td>...</td>\n",
              "      <td>...</td>\n",
              "      <td>...</td>\n",
              "      <td>...</td>\n",
              "      <td>...</td>\n",
              "      <td>...</td>\n",
              "      <td>...</td>\n",
              "      <td>...</td>\n",
              "      <td>...</td>\n",
              "      <td>...</td>\n",
              "    </tr>\n",
              "    <tr>\n",
              "      <th>2018-03-21</th>\n",
              "      <td>175.04</td>\n",
              "      <td>175.09</td>\n",
              "      <td>171.26</td>\n",
              "      <td>171.270</td>\n",
              "      <td>35247358.0</td>\n",
              "      <td>0.0</td>\n",
              "      <td>1.0</td>\n",
              "      <td>175.040000</td>\n",
              "      <td>175.090000</td>\n",
              "      <td>171.260000</td>\n",
              "      <td>171.270000</td>\n",
              "      <td>35247358.0</td>\n",
              "    </tr>\n",
              "    <tr>\n",
              "      <th>2018-03-22</th>\n",
              "      <td>170.00</td>\n",
              "      <td>172.68</td>\n",
              "      <td>168.60</td>\n",
              "      <td>168.845</td>\n",
              "      <td>41051076.0</td>\n",
              "      <td>0.0</td>\n",
              "      <td>1.0</td>\n",
              "      <td>170.000000</td>\n",
              "      <td>172.680000</td>\n",
              "      <td>168.600000</td>\n",
              "      <td>168.845000</td>\n",
              "      <td>41051076.0</td>\n",
              "    </tr>\n",
              "    <tr>\n",
              "      <th>2018-03-23</th>\n",
              "      <td>168.39</td>\n",
              "      <td>169.92</td>\n",
              "      <td>164.94</td>\n",
              "      <td>164.940</td>\n",
              "      <td>40248954.0</td>\n",
              "      <td>0.0</td>\n",
              "      <td>1.0</td>\n",
              "      <td>168.390000</td>\n",
              "      <td>169.920000</td>\n",
              "      <td>164.940000</td>\n",
              "      <td>164.940000</td>\n",
              "      <td>40248954.0</td>\n",
              "    </tr>\n",
              "    <tr>\n",
              "      <th>2018-03-26</th>\n",
              "      <td>168.07</td>\n",
              "      <td>173.10</td>\n",
              "      <td>166.44</td>\n",
              "      <td>172.770</td>\n",
              "      <td>36272617.0</td>\n",
              "      <td>0.0</td>\n",
              "      <td>1.0</td>\n",
              "      <td>168.070000</td>\n",
              "      <td>173.100000</td>\n",
              "      <td>166.440000</td>\n",
              "      <td>172.770000</td>\n",
              "      <td>36272617.0</td>\n",
              "    </tr>\n",
              "    <tr>\n",
              "      <th>2018-03-27</th>\n",
              "      <td>173.68</td>\n",
              "      <td>175.15</td>\n",
              "      <td>166.92</td>\n",
              "      <td>168.340</td>\n",
              "      <td>38962839.0</td>\n",
              "      <td>0.0</td>\n",
              "      <td>1.0</td>\n",
              "      <td>173.680000</td>\n",
              "      <td>175.150000</td>\n",
              "      <td>166.920000</td>\n",
              "      <td>168.340000</td>\n",
              "      <td>38962839.0</td>\n",
              "    </tr>\n",
              "  </tbody>\n",
              "</table>\n",
              "<p>9400 rows × 12 columns</p>\n",
              "</div>"
            ],
            "text/plain": [
              "              Open    High     Low  ...    Adj. Low  Adj. Close  Adj. Volume\n",
              "Date                                ...                                     \n",
              "1980-12-12   28.75   28.87   28.75  ...    0.422706    0.422706  117258400.0\n",
              "1980-12-15   27.38   27.38   27.25  ...    0.400652    0.400652   43971200.0\n",
              "1980-12-16   25.37   25.37   25.25  ...    0.371246    0.371246   26432000.0\n",
              "1980-12-17   25.87   26.00   25.87  ...    0.380362    0.380362   21610400.0\n",
              "1980-12-18   26.63   26.75   26.63  ...    0.391536    0.391536   18362400.0\n",
              "...            ...     ...     ...  ...         ...         ...          ...\n",
              "2018-03-21  175.04  175.09  171.26  ...  171.260000  171.270000   35247358.0\n",
              "2018-03-22  170.00  172.68  168.60  ...  168.600000  168.845000   41051076.0\n",
              "2018-03-23  168.39  169.92  164.94  ...  164.940000  164.940000   40248954.0\n",
              "2018-03-26  168.07  173.10  166.44  ...  166.440000  172.770000   36272617.0\n",
              "2018-03-27  173.68  175.15  166.92  ...  166.920000  168.340000   38962839.0\n",
              "\n",
              "[9400 rows x 12 columns]"
            ]
          },
          "metadata": {
            "tags": []
          },
          "execution_count": 5
        }
      ]
    },
    {
      "cell_type": "code",
      "metadata": {
        "id": "To6Il0P1G1Ya",
        "colab_type": "code",
        "outputId": "3ae50042-0615-486f-bf5d-d5b9d09ce216",
        "colab": {
          "base_uri": "https://localhost:8080/",
          "height": 401
        }
      },
      "source": [
        "plt.figure()\n",
        "plt.plot(mydata[\"Open\"])\n",
        "plt.plot(mydata[\"High\"])\n",
        "plt.plot(mydata[\"Low\"])\n",
        "plt.plot(mydata[\"Close\"])\n",
        "plt.ylabel('Price')\n",
        "plt.xlabel('Days')\n",
        "plt.legend(['Open','High','Low','Close'], loc='upper left')\n",
        "plt.show()"
      ],
      "execution_count": 0,
      "outputs": [
        {
          "output_type": "stream",
          "text": [
            "/usr/local/lib/python3.6/dist-packages/pandas/plotting/_matplotlib/converter.py:103: FutureWarning: Using an implicitly registered datetime converter for a matplotlib plotting method. The converter was registered by pandas on import. Future versions of pandas will require you to explicitly register matplotlib converters.\n",
            "\n",
            "To register the converters:\n",
            "\t>>> from pandas.plotting import register_matplotlib_converters\n",
            "\t>>> register_matplotlib_converters()\n",
            "  warnings.warn(msg, FutureWarning)\n"
          ],
          "name": "stderr"
        },
        {
          "output_type": "display_data",
          "data": {
            "image/png": "[encoded data removed]",
            "text/plain": [
              "<Figure size 432x288 with 1 Axes>"
            ]
          },
          "metadata": {
            "tags": []
          }
        }
      ]
    },
    {
      "cell_type": "markdown",
      "metadata": {
        "id": "-FkYXXDEHBOL",
        "colab_type": "text"
      },
      "source": [
        "We are considering only \"Close\" stock prices"
      ]
    },
    {
      "cell_type": "code",
      "metadata": {
        "id": "dlnmBUknRCoT",
        "colab_type": "code",
        "outputId": "6ad5e6d1-6ac5-4813-aab8-99ea81c3fc10",
        "colab": {
          "base_uri": "https://localhost:8080/",
          "height": 279
        }
      },
      "source": [
        "plt.figure()\n",
        "plt.plot(mydata[\"Close\"])\n",
        "plt.ylabel('Close')\n",
        "plt.xlabel('Days')\n",
        "plt.show()"
      ],
      "execution_count": 0,
      "outputs": [
        {
          "output_type": "display_data",
          "data": {
            "image/png": "[encoded data removed]",
            "text/plain": [
              "<Figure size 432x288 with 1 Axes>"
            ]
          },
          "metadata": {
            "tags": []
          }
        }
      ]
    },
    {
      "cell_type": "markdown",
      "metadata": {
        "id": "QGMBtVUwFpKg",
        "colab_type": "text"
      },
      "source": [
        "Create chunk of size 50"
      ]
    },
    {
      "cell_type": "code",
      "metadata": {
        "id": "LWfqO-n3YSh0",
        "colab_type": "code",
        "outputId": "83724ec7-3d8e-48b0-bdf4-fcca26d4dd82",
        "colab": {
          "base_uri": "https://localhost:8080/",
          "height": 34
        }
      },
      "source": [
        "closedata1 = mydata['Adj. Close'].values\n",
        "new_closedata = closedata1.reshape(int(closedata1.shape[0]/50), 50, 1)\n",
        "new_closedata[0].shape"
      ],
      "execution_count": 0,
      "outputs": [
        {
          "output_type": "execute_result",
          "data": {
            "text/plain": [
              "(50, 1)"
            ]
          },
          "metadata": {
            "tags": []
          },
          "execution_count": 8
        }
      ]
    },
    {
      "cell_type": "code",
      "metadata": {
        "id": "mQ7uSlOzHbUe",
        "colab_type": "code",
        "outputId": "67987e9a-ba6a-43d2-b8ee-24b4b83a94f9",
        "colab": {
          "base_uri": "https://localhost:8080/",
          "height": 34
        }
      },
      "source": [
        "new_closedata.shape"
      ],
      "execution_count": 0,
      "outputs": [
        {
          "output_type": "execute_result",
          "data": {
            "text/plain": [
              "(188, 50, 1)"
            ]
          },
          "metadata": {
            "tags": []
          },
          "execution_count": 9
        }
      ]
    },
    {
      "cell_type": "markdown",
      "metadata": {
        "id": "nlTtMp3NF6Sf",
        "colab_type": "text"
      },
      "source": [
        "Split into train and test set"
      ]
    },
    {
      "cell_type": "code",
      "metadata": {
        "id": "drYZfsCDYeGL",
        "colab_type": "code",
        "colab": {}
      },
      "source": [
        "X_train, y_train = new_closedata[:int(new_closedata.shape[0]*0.7), :50],new_closedata[:int(new_closedata.shape[0]*0.7), -1]\n",
        "X_val, y_val = new_closedata[int(new_closedata.shape[0]*0.7):int(new_closedata.shape[0]*0.8), :50], new_closedata[int(new_closedata.shape[0]*0.7):int(new_closedata.shape[0]*0.8), -1] \n",
        "X_test, y_test = new_closedata[int(new_closedata.shape[0]*0.8):, :50], new_closedata[int(new_closedata.shape[0]*0.8):, -1]"
      ],
      "execution_count": 0,
      "outputs": []
    },
    {
      "cell_type": "code",
      "metadata": {
        "id": "VvpszQ4j4VeZ",
        "colab_type": "code",
        "outputId": "23219f90-7c40-46fd-82ff-f56f1c7784d5",
        "colab": {
          "base_uri": "https://localhost:8080/",
          "height": 34
        }
      },
      "source": [
        "X_train.shape, y_train.shape"
      ],
      "execution_count": 0,
      "outputs": [
        {
          "output_type": "execute_result",
          "data": {
            "text/plain": [
              "((131, 50, 1), (131, 1))"
            ]
          },
          "metadata": {
            "tags": []
          },
          "execution_count": 11
        }
      ]
    },
    {
      "cell_type": "code",
      "metadata": {
        "id": "y1zZEDc5vXLI",
        "colab_type": "code",
        "outputId": "67e57501-f76c-4db8-bf15-327790ba6807",
        "colab": {
          "base_uri": "https://localhost:8080/",
          "height": 34
        }
      },
      "source": [
        "X_val.shape, y_val.shape\n"
      ],
      "execution_count": 0,
      "outputs": [
        {
          "output_type": "execute_result",
          "data": {
            "text/plain": [
              "((19, 50, 1), (19, 1))"
            ]
          },
          "metadata": {
            "tags": []
          },
          "execution_count": 12
        }
      ]
    },
    {
      "cell_type": "code",
      "metadata": {
        "id": "Zo3Ia6doHywp",
        "colab_type": "code",
        "outputId": "5f8989a0-fdb5-47d5-c409-c8c7844c7420",
        "colab": {
          "base_uri": "https://localhost:8080/",
          "height": 34
        }
      },
      "source": [
        "X_test.shape, y_test.shape\n"
      ],
      "execution_count": 0,
      "outputs": [
        {
          "output_type": "execute_result",
          "data": {
            "text/plain": [
              "((38, 50, 1), (38, 1))"
            ]
          },
          "metadata": {
            "tags": []
          },
          "execution_count": 13
        }
      ]
    },
    {
      "cell_type": "markdown",
      "metadata": {
        "id": "rsiOTfALhNEW",
        "colab_type": "text"
      },
      "source": [
        "With Simple RNN"
      ]
    },
    {
      "cell_type": "code",
      "metadata": {
        "id": "DAH7dkf2hdAj",
        "colab_type": "code",
        "outputId": "4f7d60f8-8fff-4f31-aebb-7a47551c14fc",
        "colab": {
          "base_uri": "https://localhost:8080/",
          "height": 714
        }
      },
      "source": [
        "model = keras.models.Sequential([\n",
        "    keras.layers.SimpleRNN(20, return_sequences = True, input_shape=[None, 1]),\n",
        "    keras.layers.SimpleRNN(20),\n",
        "    keras.layers.Dense(1)\n",
        "\n",
        "])\n",
        "\n",
        "optimizer = keras.optimizers.Adam(lr=0.01)\n",
        "model.compile(loss=\"mse\", optimizer=optimizer)\n",
        "h = model.fit(X_train, y_train, epochs=20,validation_data=(X_val, y_val))\n"
      ],
      "execution_count": 0,
      "outputs": [
        {
          "output_type": "stream",
          "text": [
            "Train on 131 samples, validate on 19 samples\n",
            "Epoch 1/20\n",
            "131/131 [==============================] - 3s 21ms/sample - loss: 4.3097 - val_loss: 363.1880\n",
            "Epoch 2/20\n",
            "131/131 [==============================] - 0s 1ms/sample - loss: 1.9665 - val_loss: 324.9443\n",
            "Epoch 3/20\n",
            "131/131 [==============================] - 0s 1ms/sample - loss: 1.4244 - val_loss: 301.8562\n",
            "Epoch 4/20\n",
            "131/131 [==============================] - 0s 1ms/sample - loss: 1.0562 - val_loss: 283.7194\n",
            "Epoch 5/20\n",
            "131/131 [==============================] - 0s 1ms/sample - loss: 0.8260 - val_loss: 270.8038\n",
            "Epoch 6/20\n",
            "131/131 [==============================] - 0s 1ms/sample - loss: 0.6656 - val_loss: 257.1572\n",
            "Epoch 7/20\n",
            "131/131 [==============================] - 0s 1ms/sample - loss: 0.5091 - val_loss: 245.3101\n",
            "Epoch 8/20\n",
            "131/131 [==============================] - 0s 1ms/sample - loss: 0.3994 - val_loss: 234.8170\n",
            "Epoch 9/20\n",
            "131/131 [==============================] - 0s 1ms/sample - loss: 0.3287 - val_loss: 224.5418\n",
            "Epoch 10/20\n",
            "131/131 [==============================] - 0s 1ms/sample - loss: 0.2601 - val_loss: 215.9086\n",
            "Epoch 11/20\n",
            "131/131 [==============================] - 0s 1ms/sample - loss: 0.1997 - val_loss: 208.9203\n",
            "Epoch 12/20\n",
            "131/131 [==============================] - 0s 1ms/sample - loss: 0.1720 - val_loss: 202.3322\n",
            "Epoch 13/20\n",
            "131/131 [==============================] - 0s 1ms/sample - loss: 0.1327 - val_loss: 197.2974\n",
            "Epoch 14/20\n",
            "131/131 [==============================] - 0s 1ms/sample - loss: 0.1182 - val_loss: 192.2117\n",
            "Epoch 15/20\n",
            "131/131 [==============================] - 0s 1ms/sample - loss: 0.0983 - val_loss: 187.7214\n",
            "Epoch 16/20\n",
            "131/131 [==============================] - 0s 1ms/sample - loss: 0.0912 - val_loss: 181.8821\n",
            "Epoch 17/20\n",
            "131/131 [==============================] - 0s 1ms/sample - loss: 0.0779 - val_loss: 178.8999\n",
            "Epoch 18/20\n",
            "131/131 [==============================] - 0s 1ms/sample - loss: 0.0753 - val_loss: 175.6083\n",
            "Epoch 19/20\n",
            "131/131 [==============================] - 0s 1ms/sample - loss: 0.0739 - val_loss: 173.5415\n",
            "Epoch 20/20\n",
            "131/131 [==============================] - 0s 1ms/sample - loss: 0.0765 - val_loss: 171.2366\n"
          ],
          "name": "stdout"
        }
      ]
    },
    {
      "cell_type": "code",
      "metadata": {
        "id": "nFGCq_iYjFJl",
        "colab_type": "code",
        "outputId": "d38eda3b-f60f-4718-f27c-c4e8f1440b9b",
        "colab": {
          "base_uri": "https://localhost:8080/",
          "height": 282
        }
      },
      "source": [
        "\n",
        "import matplotlib.pyplot as plt\n",
        "plt.plot(h.history['loss'], 'o-')\n",
        "plt.plot(h.history['val_loss'], 'o-')"
      ],
      "execution_count": 0,
      "outputs": [
        {
          "output_type": "execute_result",
          "data": {
            "text/plain": [
              "[<matplotlib.lines.Line2D at 0x7f14ee12b978>]"
            ]
          },
          "metadata": {
            "tags": []
          },
          "execution_count": 15
        },
        {
          "output_type": "display_data",
          "data": {
            "image/png": "[encoded data removed]",
            "text/plain": [
              "<Figure size 432x288 with 1 Axes>"
            ]
          },
          "metadata": {
            "tags": []
          }
        }
      ]
    },
    {
      "cell_type": "code",
      "metadata": {
        "id": "5QVBtYSXj6Ay",
        "colab_type": "code",
        "outputId": "ebf41270-d97d-4e4e-8272-3cb44be9fbf7",
        "colab": {
          "base_uri": "https://localhost:8080/",
          "height": 71
        }
      },
      "source": [
        "model.evaluate(X_val, y_val)"
      ],
      "execution_count": 0,
      "outputs": [
        {
          "output_type": "stream",
          "text": [
            "\r19/1 [==========================================================================================================================================================================================================================================================================================================================================================================================================================================================================================================================================================================================] - 0s 557us/sample - loss: 171.2366\n"
          ],
          "name": "stdout"
        },
        {
          "output_type": "execute_result",
          "data": {
            "text/plain": [
              "171.2366180419922"
            ]
          },
          "metadata": {
            "tags": []
          },
          "execution_count": 16
        }
      ]
    },
    {
      "cell_type": "code",
      "metadata": {
        "id": "dZTkYFKd4vkE",
        "colab_type": "code",
        "outputId": "14ea5c42-2724-4889-d94c-cc136a47ab97",
        "colab": {
          "base_uri": "https://localhost:8080/",
          "height": 34
        }
      },
      "source": [
        "y_pred = model.predict(X_test)\n",
        "y_pred.shape"
      ],
      "execution_count": 0,
      "outputs": [
        {
          "output_type": "execute_result",
          "data": {
            "text/plain": [
              "(38, 1)"
            ]
          },
          "metadata": {
            "tags": []
          },
          "execution_count": 17
        }
      ]
    },
    {
      "cell_type": "code",
      "metadata": {
        "id": "vq9E37UNklUk",
        "colab_type": "code",
        "outputId": "5f456243-fc23-4e15-ce63-6ef36cb274c1",
        "colab": {
          "base_uri": "https://localhost:8080/",
          "height": 265
        }
      },
      "source": [
        "plt.plot(X_test[-1])\n",
        "plt.scatter(x = X_test[-1].shape[0]+1, y = y_test[-1], label = 'Actual')\n",
        "plt.scatter(x = X_test[-1].shape[0]+1, y = y_pred[-1], c = 'r', label = 'Prediction')\n",
        "plt.legend();"
      ],
      "execution_count": 0,
      "outputs": [
        {
          "output_type": "display_data",
          "data": {
            "image/png": "[encoded data removed]",
            "text/plain": [
              "<Figure size 432x288 with 1 Axes>"
            ]
          },
          "metadata": {
            "tags": []
          }
        }
      ]
    },
    {
      "cell_type": "markdown",
      "metadata": {
        "id": "4nL14KXcK8sZ",
        "colab_type": "text"
      },
      "source": [
        "There is a huge gap in the prediction and the actual data. We need to improve it before that lets see the LSTM and GRU models"
      ]
    },
    {
      "cell_type": "markdown",
      "metadata": {
        "id": "vSuaO9xWlwOE",
        "colab_type": "text"
      },
      "source": [
        "LSTM"
      ]
    },
    {
      "cell_type": "code",
      "metadata": {
        "id": "i2ZrRdgmuxyg",
        "colab_type": "code",
        "outputId": "d6d3405b-f735-49fa-f806-9c3a35eca329",
        "colab": {
          "base_uri": "https://localhost:8080/",
          "height": 1054
        }
      },
      "source": [
        "model_LSTM = keras.models.Sequential([\n",
        "    keras.layers.LSTM(20, return_sequences=True, input_shape=[None, 1]),\n",
        "    keras.layers.LSTM(20),\n",
        "    keras.layers.Dense(1)\n",
        "])\n",
        "\n",
        "model_LSTM.compile(loss=\"mse\", optimizer='adam')\n",
        "h_LSTM = model_LSTM.fit(X_train, y_train, epochs=30,validation_data = (X_val, y_val))"
      ],
      "execution_count": 0,
      "outputs": [
        {
          "output_type": "stream",
          "text": [
            "Train on 131 samples, validate on 19 samples\n",
            "Epoch 1/30\n",
            "131/131 [==============================] - 6s 46ms/sample - loss: 7.6579 - val_loss: 479.4988\n",
            "Epoch 2/30\n",
            "131/131 [==============================] - 0s 2ms/sample - loss: 6.9558 - val_loss: 470.3541\n",
            "Epoch 3/30\n",
            "131/131 [==============================] - 0s 2ms/sample - loss: 6.2693 - val_loss: 461.9048\n",
            "Epoch 4/30\n",
            "131/131 [==============================] - 0s 2ms/sample - loss: 5.6819 - val_loss: 452.4491\n",
            "Epoch 5/30\n",
            "131/131 [==============================] - 0s 2ms/sample - loss: 5.1114 - val_loss: 441.8205\n",
            "Epoch 6/30\n",
            "131/131 [==============================] - 0s 2ms/sample - loss: 4.4970 - val_loss: 431.0997\n",
            "Epoch 7/30\n",
            "131/131 [==============================] - 0s 2ms/sample - loss: 4.0389 - val_loss: 419.4834\n",
            "Epoch 8/30\n",
            "131/131 [==============================] - 0s 2ms/sample - loss: 3.6264 - val_loss: 410.0077\n",
            "Epoch 9/30\n",
            "131/131 [==============================] - 0s 2ms/sample - loss: 3.4363 - val_loss: 401.6274\n",
            "Epoch 10/30\n",
            "131/131 [==============================] - 0s 2ms/sample - loss: 3.2450 - val_loss: 395.6418\n",
            "Epoch 11/30\n",
            "131/131 [==============================] - 0s 2ms/sample - loss: 3.0759 - val_loss: 389.8509\n",
            "Epoch 12/30\n",
            "131/131 [==============================] - 0s 2ms/sample - loss: 2.8536 - val_loss: 385.5473\n",
            "Epoch 13/30\n",
            "131/131 [==============================] - 0s 2ms/sample - loss: 2.6492 - val_loss: 382.9547\n",
            "Epoch 14/30\n",
            "131/131 [==============================] - 0s 2ms/sample - loss: 2.4714 - val_loss: 379.7679\n",
            "Epoch 15/30\n",
            "131/131 [==============================] - 0s 2ms/sample - loss: 2.3425 - val_loss: 373.3990\n",
            "Epoch 16/30\n",
            "131/131 [==============================] - 0s 2ms/sample - loss: 2.1772 - val_loss: 366.1083\n",
            "Epoch 17/30\n",
            "131/131 [==============================] - 0s 2ms/sample - loss: 2.0512 - val_loss: 359.0558\n",
            "Epoch 18/30\n",
            "131/131 [==============================] - 0s 2ms/sample - loss: 1.9177 - val_loss: 353.7092\n",
            "Epoch 19/30\n",
            "131/131 [==============================] - 0s 2ms/sample - loss: 1.7958 - val_loss: 349.1234\n",
            "Epoch 20/30\n",
            "131/131 [==============================] - 0s 2ms/sample - loss: 1.6750 - val_loss: 345.1082\n",
            "Epoch 21/30\n",
            "131/131 [==============================] - 0s 2ms/sample - loss: 1.5601 - val_loss: 340.7453\n",
            "Epoch 22/30\n",
            "131/131 [==============================] - 0s 2ms/sample - loss: 1.4563 - val_loss: 334.8017\n",
            "Epoch 23/30\n",
            "131/131 [==============================] - 0s 2ms/sample - loss: 1.3486 - val_loss: 331.0375\n",
            "Epoch 24/30\n",
            "131/131 [==============================] - 0s 2ms/sample - loss: 1.2622 - val_loss: 328.3066\n",
            "Epoch 25/30\n",
            "131/131 [==============================] - 0s 2ms/sample - loss: 1.1917 - val_loss: 325.8399\n",
            "Epoch 26/30\n",
            "131/131 [==============================] - 0s 2ms/sample - loss: 1.1336 - val_loss: 321.7560\n",
            "Epoch 27/30\n",
            "131/131 [==============================] - 0s 2ms/sample - loss: 1.0746 - val_loss: 318.0828\n",
            "Epoch 28/30\n",
            "131/131 [==============================] - 0s 2ms/sample - loss: 1.0091 - val_loss: 316.0511\n",
            "Epoch 29/30\n",
            "131/131 [==============================] - 0s 2ms/sample - loss: 0.9588 - val_loss: 313.0145\n",
            "Epoch 30/30\n",
            "131/131 [==============================] - 0s 2ms/sample - loss: 0.9082 - val_loss: 309.2342\n"
          ],
          "name": "stdout"
        }
      ]
    },
    {
      "cell_type": "code",
      "metadata": {
        "id": "IEoX-RcUvVga",
        "colab_type": "code",
        "outputId": "51bdb4ea-0e27-43b7-9114-21b2f049ae51",
        "colab": {
          "base_uri": "https://localhost:8080/",
          "height": 285
        }
      },
      "source": [
        "plt.plot(h_LSTM.history['loss'], 'o-')\n",
        "plt.plot(h_LSTM.history['val_loss'], 'o-')"
      ],
      "execution_count": 0,
      "outputs": [
        {
          "output_type": "execute_result",
          "data": {
            "text/plain": [
              "[<matplotlib.lines.Line2D at 0x7f14c08aa3c8>]"
            ]
          },
          "metadata": {
            "tags": []
          },
          "execution_count": 20
        },
        {
          "output_type": "display_data",
          "data": {
            "image/png": "[encoded data removed]",
            "text/plain": [
              "<Figure size 432x288 with 1 Axes>"
            ]
          },
          "metadata": {
            "tags": []
          }
        }
      ]
    },
    {
      "cell_type": "code",
      "metadata": {
        "id": "iF2kntsAlsDv",
        "colab_type": "code",
        "outputId": "c23c0dfe-49d9-4220-f18d-56de7609c5c6",
        "colab": {
          "base_uri": "https://localhost:8080/",
          "height": 71
        }
      },
      "source": [
        "model_LSTM.evaluate(X_val, y_val)"
      ],
      "execution_count": 0,
      "outputs": [
        {
          "output_type": "stream",
          "text": [
            "\r19/1 [==========================================================================================================================================================================================================================================================================================================================================================================================================================================================================================================================================================================================] - 0s 702us/sample - loss: 309.2342\n"
          ],
          "name": "stdout"
        },
        {
          "output_type": "execute_result",
          "data": {
            "text/plain": [
              "309.23419189453125"
            ]
          },
          "metadata": {
            "tags": []
          },
          "execution_count": 21
        }
      ]
    },
    {
      "cell_type": "code",
      "metadata": {
        "id": "BoObVeYD8xoz",
        "colab_type": "code",
        "outputId": "4425cb15-d320-4ddb-c482-056cc2217f41",
        "colab": {
          "base_uri": "https://localhost:8080/",
          "height": 34
        }
      },
      "source": [
        "y_pred_lstm = model_LSTM.predict(X_test)\n",
        "y_pred_lstm.shape"
      ],
      "execution_count": 0,
      "outputs": [
        {
          "output_type": "execute_result",
          "data": {
            "text/plain": [
              "(38, 1)"
            ]
          },
          "metadata": {
            "tags": []
          },
          "execution_count": 22
        }
      ]
    },
    {
      "cell_type": "code",
      "metadata": {
        "id": "1kTnQjnU87dy",
        "colab_type": "code",
        "outputId": "90ccb036-ed0d-4dd8-daac-d2140b764f22",
        "colab": {
          "base_uri": "https://localhost:8080/",
          "height": 265
        }
      },
      "source": [
        "plt.plot(X_test[0])\n",
        "plt.scatter(x = X_test[0].shape[0]+1, y = y_test[0], label = 'Actual')\n",
        "plt.scatter(x = X_test[0].shape[0]+1, y = y_pred_lstm[0], c = 'r', label = 'Prediction')\n",
        "plt.legend();"
      ],
      "execution_count": 0,
      "outputs": [
        {
          "output_type": "display_data",
          "data": {
            "image/png": "[encoded data removed]",
            "text/plain": [
              "<Figure size 432x288 with 1 Axes>"
            ]
          },
          "metadata": {
            "tags": []
          }
        }
      ]
    },
    {
      "cell_type": "markdown",
      "metadata": {
        "id": "DQjey8P5TINn",
        "colab_type": "text"
      },
      "source": [
        "With GRU modele:\n"
      ]
    },
    {
      "cell_type": "code",
      "metadata": {
        "id": "d207yunCTMiT",
        "colab_type": "code",
        "outputId": "1afa4708-35bf-4855-a9ff-f7cb38b0884e",
        "colab": {
          "base_uri": "https://localhost:8080/",
          "height": 714
        }
      },
      "source": [
        "model_GRU = keras.models.Sequential([\n",
        "    keras.layers.GRU(20, return_sequences=True, input_shape=[None, 1]),\n",
        "    keras.layers.GRU(20),\n",
        "    keras.layers.Dense(1)\n",
        "])\n",
        "\n",
        "model_GRU.compile(loss=\"mse\", optimizer=\"adam\")\n",
        "h_GRU = model_GRU.fit(X_train, y_train, epochs=20,validation_data=(X_val, y_val))\n"
      ],
      "execution_count": 0,
      "outputs": [
        {
          "output_type": "stream",
          "text": [
            "Train on 131 samples, validate on 19 samples\n",
            "Epoch 1/20\n",
            "131/131 [==============================] - 6s 44ms/sample - loss: 6.7794 - val_loss: 453.2168\n",
            "Epoch 2/20\n",
            "131/131 [==============================] - 0s 3ms/sample - loss: 5.5585 - val_loss: 432.0545\n",
            "Epoch 3/20\n",
            "131/131 [==============================] - 0s 3ms/sample - loss: 4.5634 - val_loss: 412.2389\n",
            "Epoch 4/20\n",
            "131/131 [==============================] - 0s 3ms/sample - loss: 3.7239 - val_loss: 393.5215\n",
            "Epoch 5/20\n",
            "131/131 [==============================] - 0s 3ms/sample - loss: 3.0354 - val_loss: 375.7985\n",
            "Epoch 6/20\n",
            "131/131 [==============================] - 0s 2ms/sample - loss: 2.5781 - val_loss: 360.5156\n",
            "Epoch 7/20\n",
            "131/131 [==============================] - 0s 3ms/sample - loss: 2.2626 - val_loss: 347.3453\n",
            "Epoch 8/20\n",
            "131/131 [==============================] - 0s 3ms/sample - loss: 2.1243 - val_loss: 335.7815\n",
            "Epoch 9/20\n",
            "131/131 [==============================] - 0s 2ms/sample - loss: 1.9640 - val_loss: 328.7131\n",
            "Epoch 10/20\n",
            "131/131 [==============================] - 0s 2ms/sample - loss: 1.8425 - val_loss: 322.2355\n",
            "Epoch 11/20\n",
            "131/131 [==============================] - 0s 3ms/sample - loss: 1.6844 - val_loss: 318.3639\n",
            "Epoch 12/20\n",
            "131/131 [==============================] - 0s 3ms/sample - loss: 1.5465 - val_loss: 315.3963\n",
            "Epoch 13/20\n",
            "131/131 [==============================] - 0s 2ms/sample - loss: 1.4532 - val_loss: 312.2185\n",
            "Epoch 14/20\n",
            "131/131 [==============================] - 0s 2ms/sample - loss: 1.3774 - val_loss: 308.4440\n",
            "Epoch 15/20\n",
            "131/131 [==============================] - 0s 2ms/sample - loss: 1.2897 - val_loss: 304.6825\n",
            "Epoch 16/20\n",
            "131/131 [==============================] - 0s 2ms/sample - loss: 1.2223 - val_loss: 300.2232\n",
            "Epoch 17/20\n",
            "131/131 [==============================] - 0s 3ms/sample - loss: 1.1503 - val_loss: 295.4801\n",
            "Epoch 18/20\n",
            "131/131 [==============================] - 0s 2ms/sample - loss: 1.0690 - val_loss: 290.1935\n",
            "Epoch 19/20\n",
            "131/131 [==============================] - 0s 2ms/sample - loss: 1.0116 - val_loss: 283.8153\n",
            "Epoch 20/20\n",
            "131/131 [==============================] - 0s 2ms/sample - loss: 0.9571 - val_loss: 279.8201\n"
          ],
          "name": "stdout"
        }
      ]
    },
    {
      "cell_type": "code",
      "metadata": {
        "id": "N0n7qs4pPI26",
        "colab_type": "code",
        "outputId": "a552f89e-e20f-4052-9943-0e1023e60a56",
        "colab": {
          "base_uri": "https://localhost:8080/",
          "height": 282
        }
      },
      "source": [
        "plt.plot(h_GRU.history['loss'], 'o-')\n",
        "plt.plot(h_GRU.history['val_loss'], 'o-')"
      ],
      "execution_count": 0,
      "outputs": [
        {
          "output_type": "execute_result",
          "data": {
            "text/plain": [
              "[<matplotlib.lines.Line2D at 0x7f14be2b4f60>]"
            ]
          },
          "metadata": {
            "tags": []
          },
          "execution_count": 25
        },
        {
          "output_type": "display_data",
          "data": {
            "image/png": "[encoded data removed]",
            "text/plain": [
              "<Figure size 432x288 with 1 Axes>"
            ]
          },
          "metadata": {
            "tags": []
          }
        }
      ]
    },
    {
      "cell_type": "code",
      "metadata": {
        "id": "y1m8fbFj9Grx",
        "colab_type": "code",
        "outputId": "9e979afd-919d-4eda-81cc-412d7bfc69f8",
        "colab": {
          "base_uri": "https://localhost:8080/",
          "height": 71
        }
      },
      "source": [
        "model_GRU.evaluate(X_val, y_val)"
      ],
      "execution_count": 0,
      "outputs": [
        {
          "output_type": "stream",
          "text": [
            "\r19/1 [==========================================================================================================================================================================================================================================================================================================================================================================================================================================================================================================================================================================================] - 0s 694us/sample - loss: 279.8201\n"
          ],
          "name": "stdout"
        },
        {
          "output_type": "execute_result",
          "data": {
            "text/plain": [
              "279.820068359375"
            ]
          },
          "metadata": {
            "tags": []
          },
          "execution_count": 26
        }
      ]
    },
    {
      "cell_type": "code",
      "metadata": {
        "id": "ChZE8vykVSbj",
        "colab_type": "code",
        "outputId": "0ab97a2d-49b9-4320-d1c2-9faf8cf734ff",
        "colab": {
          "base_uri": "https://localhost:8080/",
          "height": 34
        }
      },
      "source": [
        "y_pred_gru = model_GRU.predict(X_test)\n",
        "y_pred_gru.shape"
      ],
      "execution_count": 0,
      "outputs": [
        {
          "output_type": "execute_result",
          "data": {
            "text/plain": [
              "(38, 1)"
            ]
          },
          "metadata": {
            "tags": []
          },
          "execution_count": 27
        }
      ]
    },
    {
      "cell_type": "code",
      "metadata": {
        "id": "JPs-pa5sVf3Z",
        "colab_type": "code",
        "outputId": "6bcf8adf-a367-4518-b2e1-29481d308883",
        "colab": {
          "base_uri": "https://localhost:8080/",
          "height": 265
        }
      },
      "source": [
        "plt.plot(X_test[0])\n",
        "plt.scatter(x = X_test[0].shape[0]+1, y = y_test[0], label = 'Actual')\n",
        "plt.scatter(x = X_test[0].shape[0]+1, y = y_pred_gru[0], c = 'r', label = 'Prediction')\n",
        "plt.legend();"
      ],
      "execution_count": 0,
      "outputs": [
        {
          "output_type": "display_data",
          "data": {
            "image/png": "[encoded data removed]",
            "text/plain": [
              "<Figure size 432x288 with 1 Axes>"
            ]
          },
          "metadata": {
            "tags": []
          }
        }
      ]
    },
    {
      "cell_type": "code",
      "metadata": {
        "id": "proBKxsZVkZk",
        "colab_type": "code",
        "colab": {}
      },
      "source": [
        ""
      ],
      "execution_count": 0,
      "outputs": []
    }
  ]
}