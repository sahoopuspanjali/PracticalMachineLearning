{
  "nbformat": 4,
  "nbformat_minor": 0,
  "metadata": {
    "colab": {
      "name": "Homework4_Autoencoders.ipynb",
      "provenance": [],
      "collapsed_sections": [],
      "include_colab_link": true
    },
    "kernelspec": {
      "name": "python3",
      "display_name": "Python 3"
    },
    "accelerator": "GPU"
  },
  "cells": [
    {
      "cell_type": "markdown",
      "metadata": {
        "id": "view-in-github",
        "colab_type": "text"
      },
      "source": [
        "<a href=\"https://colab.research.google.com/github/sahoopuspanjali/PracticalMachineLearning/blob/master/Homework4_Autoencoders.ipynb\" target=\"_parent\"><img src=\"https://colab.research.google.com/assets/colab-badge.svg\" alt=\"Open In Colab\"/></a>"
      ]
    },
    {
      "cell_type": "markdown",
      "metadata": {
        "id": "PA25N-1uAQ_i",
        "colab_type": "text"
      },
      "source": [
        "# MNIST Autoencoder\n",
        "### Directives\n",
        "* Create the autoencoders described below, you can play with the topology, those are just starting points\n",
        "* Use GPU runtime\n",
        "* Print 10 inputs and their associated outputs\n",
        "* Don't forget to normalize your data\n",
        "* Use the Functional API for Keras\n",
        "\n",
        "### Autoencoders to build\n",
        "1. Stacked 784 - 392 - 196 - 392 - 784 (tied weights)\n",
        "2. Convolutional Encoder (conv, maxpool, conv, maxpool, conv, maxpool). Decoder (conv, upsample2d, conv, upsample2d, conv, upsample2d, conv)\n",
        "3. VAE\n"
      ]
    },
    {
      "cell_type": "code",
      "metadata": {
        "id": "OgW3IHzRNUKh",
        "colab_type": "code",
        "colab": {}
      },
      "source": [
        "# Choose Python 3 runtime\n",
        "!pip install --upgrade tensorflow"
      ],
      "execution_count": 0,
      "outputs": []
    },
    {
      "cell_type": "code",
      "metadata": {
        "id": "vG6jpTI9ANGq",
        "colab_type": "code",
        "outputId": "3e2e478f-55a9-4ddd-c2a3-ebfaad26136b",
        "colab": {
          "base_uri": "https://localhost:8080/",
          "height": 34
        }
      },
      "source": [
        "import numpy as np\n",
        "import matplotlib.pyplot as plt\n",
        "import tensorflow as tf\n",
        "from tensorflow import keras\n",
        "from keras.datasets import mnist\n",
        "from keras.models import Sequential"
      ],
      "execution_count": 2,
      "outputs": [
        {
          "output_type": "stream",
          "text": [
            "Using TensorFlow backend.\n"
          ],
          "name": "stderr"
        }
      ]
    },
    {
      "cell_type": "code",
      "metadata": {
        "id": "Xy4VyVpHl12W",
        "colab_type": "code",
        "outputId": "850bb652-642c-407d-e08a-efa5fcafccb3",
        "colab": {
          "base_uri": "https://localhost:8080/",
          "height": 34
        }
      },
      "source": [
        "(X_train_orig, _), (X_test, _) = mnist.load_data()\n",
        "all_data = np.concatenate((X_train_orig, X_test))\n",
        "all_data.shape"
      ],
      "execution_count": 3,
      "outputs": [
        {
          "output_type": "execute_result",
          "data": {
            "text/plain": [
              "(70000, 28, 28)"
            ]
          },
          "metadata": {
            "tags": []
          },
          "execution_count": 3
        }
      ]
    },
    {
      "cell_type": "code",
      "metadata": {
        "id": "U0WC5DBNziN2",
        "colab_type": "code",
        "colab": {}
      },
      "source": [
        "def plot_image(image):\n",
        "    plt.imshow(image, cmap=\"binary\")\n",
        "    plt.axis(\"off\")"
      ],
      "execution_count": 0,
      "outputs": []
    },
    {
      "cell_type": "code",
      "metadata": {
        "id": "M4AGQW74ASeo",
        "colab_type": "code",
        "colab": {}
      },
      "source": [
        "def print_first_10(data):\n",
        "  fig = plt.figure()\n",
        "  for i in range(10):\n",
        "    plt.subplot(2,5,i+1)\n",
        "    #plt.tight_layout()\n",
        "    plt.imshow(data[i], interpolation='none')\n",
        "    plt.title(\"Image: {}\".format(i))\n",
        "    plt.xticks([])\n",
        "    plt.yticks([])"
      ],
      "execution_count": 0,
      "outputs": []
    },
    {
      "cell_type": "code",
      "metadata": {
        "id": "w5DssdRVAT1F",
        "colab_type": "code",
        "outputId": "81dfa9b6-5e1c-4c9b-b2f5-2303bc642b70",
        "colab": {
          "base_uri": "https://localhost:8080/",
          "height": 227
        }
      },
      "source": [
        "print_first_10(all_data)"
      ],
      "execution_count": 6,
      "outputs": [
        {
          "output_type": "display_data",
          "data": {
            "image/png": "[encoded data removed]",
            "text/plain": [
              "<Figure size 432x288 with 10 Axes>"
            ]
          },
          "metadata": {
            "tags": []
          }
        }
      ]
    },
    {
      "cell_type": "code",
      "metadata": {
        "id": "qYtV85COAU05",
        "colab_type": "code",
        "colab": {}
      },
      "source": [
        "# Normalizing the RGB codes by dividing it to the max RGB value.\n",
        "max_value = float(X_train_orig.max())\n",
        "X_Train = X_train_orig.astype(np.float32) / max_value\n",
        "X_Test = X_test.astype(np.float32) / max_value\n",
        "\n",
        "#Train and validation split\n",
        "X_train, X_valid = X_Train[:-7000], X_Train[-7000:]"
      ],
      "execution_count": 0,
      "outputs": []
    },
    {
      "cell_type": "code",
      "metadata": {
        "id": "qSkSh6PougTH",
        "colab_type": "code",
        "outputId": "bdbb464b-89fe-4352-e922-946bb3b3f0dd",
        "colab": {
          "base_uri": "https://localhost:8080/",
          "height": 34
        }
      },
      "source": [
        "X_train.shape, X_valid.shape"
      ],
      "execution_count": 8,
      "outputs": [
        {
          "output_type": "execute_result",
          "data": {
            "text/plain": [
              "((53000, 28, 28), (7000, 28, 28))"
            ]
          },
          "metadata": {
            "tags": []
          },
          "execution_count": 8
        }
      ]
    },
    {
      "cell_type": "markdown",
      "metadata": {
        "id": "BMSUY1f9vleg",
        "colab_type": "text"
      },
      "source": [
        "1.Stacked Autoencoder(784 - 392 - 196 - 392 - 784 (tied weights))"
      ]
    },
    {
      "cell_type": "code",
      "metadata": {
        "id": "pv-mGpREUwlC",
        "colab_type": "code",
        "colab": {
          "base_uri": "https://localhost:8080/",
          "height": 714
        },
        "outputId": "8ed53495-c92c-468e-bc5f-be916a0188c1"
      },
      "source": [
        "    #Stacked Autoencoder with functional model\n",
        "    #encoder\n",
        "    inputs = keras.Input(shape=(28,28))\n",
        "    lr_flatten = keras.layers.Flatten()(inputs)\n",
        "    lr1 = keras.layers.Dense(392, activation=\"selu\")(lr_flatten)\n",
        "    lr2 = keras.layers.Dense(196, activation=\"selu\")(lr1)\n",
        "\n",
        "    #decoder\n",
        "    lr3 =  keras.layers.Dense(392, activation=\"selu\")(lr2)\n",
        "    lr4 =  keras.layers.Dense(28 * 28, activation=\"sigmoid\")(lr3)\n",
        "    outputs = keras.layers.Reshape([28, 28])(lr4)\n",
        "    stacked_ae1 = keras.Model(inputs,outputs)\n",
        "    stacked_ae1.compile(loss=\"binary_crossentropy\",optimizer=keras.optimizers.SGD(lr=1.5))\n",
        "    h_stack1 = stacked_ae1.fit(X_train, X_train, epochs=20,validation_data=[X_valid, X_valid])"
      ],
      "execution_count": 9,
      "outputs": [
        {
          "output_type": "stream",
          "text": [
            "Train on 53000 samples, validate on 7000 samples\n",
            "Epoch 1/20\n",
            "53000/53000 [==============================] - 17s 316us/sample - loss: 0.1323 - val_loss: 0.0983\n",
            "Epoch 2/20\n",
            "53000/53000 [==============================] - 16s 300us/sample - loss: 0.0879 - val_loss: 0.0854\n",
            "Epoch 3/20\n",
            "53000/53000 [==============================] - 16s 302us/sample - loss: 0.0805 - val_loss: 0.0808\n",
            "Epoch 4/20\n",
            "53000/53000 [==============================] - 16s 294us/sample - loss: 0.0771 - val_loss: 0.0789\n",
            "Epoch 5/20\n",
            "53000/53000 [==============================] - 16s 302us/sample - loss: 0.0749 - val_loss: 0.0760\n",
            "Epoch 6/20\n",
            "53000/53000 [==============================] - 16s 305us/sample - loss: 0.0734 - val_loss: 0.0742\n",
            "Epoch 7/20\n",
            "53000/53000 [==============================] - 16s 300us/sample - loss: 0.0723 - val_loss: 0.0741\n",
            "Epoch 8/20\n",
            "53000/53000 [==============================] - 16s 303us/sample - loss: 0.0715 - val_loss: 0.0725\n",
            "Epoch 9/20\n",
            "53000/53000 [==============================] - 16s 307us/sample - loss: 0.0709 - val_loss: 0.0721\n",
            "Epoch 10/20\n",
            "53000/53000 [==============================] - 16s 305us/sample - loss: 0.0704 - val_loss: 0.0713\n",
            "Epoch 11/20\n",
            "53000/53000 [==============================] - 16s 303us/sample - loss: 0.0699 - val_loss: 0.0712\n",
            "Epoch 12/20\n",
            "53000/53000 [==============================] - 16s 305us/sample - loss: 0.0695 - val_loss: 0.0707\n",
            "Epoch 13/20\n",
            "53000/53000 [==============================] - 16s 304us/sample - loss: 0.0692 - val_loss: 0.0709\n",
            "Epoch 14/20\n",
            "53000/53000 [==============================] - 16s 304us/sample - loss: 0.0689 - val_loss: 0.0701\n",
            "Epoch 15/20\n",
            "53000/53000 [==============================] - 16s 300us/sample - loss: 0.0687 - val_loss: 0.0698\n",
            "Epoch 16/20\n",
            "53000/53000 [==============================] - 16s 305us/sample - loss: 0.0684 - val_loss: 0.0696\n",
            "Epoch 17/20\n",
            "53000/53000 [==============================] - 16s 300us/sample - loss: 0.0682 - val_loss: 0.0695\n",
            "Epoch 18/20\n",
            "53000/53000 [==============================] - 16s 295us/sample - loss: 0.0680 - val_loss: 0.0692\n",
            "Epoch 19/20\n",
            "53000/53000 [==============================] - 16s 296us/sample - loss: 0.0678 - val_loss: 0.0688\n",
            "Epoch 20/20\n",
            "53000/53000 [==============================] - 16s 301us/sample - loss: 0.0677 - val_loss: 0.0689\n"
          ],
          "name": "stdout"
        }
      ]
    },
    {
      "cell_type": "markdown",
      "metadata": {
        "id": "jzji5E-xycfR",
        "colab_type": "text"
      },
      "source": [
        "Displays the original images and their reconstructions:"
      ]
    },
    {
      "cell_type": "code",
      "metadata": {
        "id": "oMbQIq-0xFU2",
        "colab_type": "code",
        "colab": {}
      },
      "source": [
        "def show_reconstructions(model, images=X_valid, n_images=10):\n",
        "    reconstructions = model.predict(images[:n_images])\n",
        "    fig = plt.figure(figsize=(n_images * 1.5, 3))\n",
        "    for image_index in range(n_images):\n",
        "        plt.subplot(2, n_images, 1 + image_index)\n",
        "        plot_image(images[image_index])\n",
        "        plt.subplot(2, n_images, 1 + n_images + image_index)\n",
        "        plot_image(reconstructions[image_index])"
      ],
      "execution_count": 0,
      "outputs": []
    },
    {
      "cell_type": "code",
      "metadata": {
        "id": "AeQWWmxCy7od",
        "colab_type": "code",
        "outputId": "87e38d13-b87f-4c69-a400-b03bcccab49c",
        "colab": {
          "base_uri": "https://localhost:8080/",
          "height": 191
        }
      },
      "source": [
        "show_reconstructions(stacked_ae1)"
      ],
      "execution_count": 11,
      "outputs": [
        {
          "output_type": "display_data",
          "data": {
            "image/png": "[encoded data removed]",
            "text/plain": [
              "<Figure size 1080x216 with 20 Axes>"
            ]
          },
          "metadata": {
            "tags": []
          }
        }
      ]
    },
    {
      "cell_type": "markdown",
      "metadata": {
        "id": "IXiy89Ns1FyV",
        "colab_type": "text"
      },
      "source": [
        "2.Convolutional Encoder (conv, maxpool, conv, maxpool, conv, maxpool). Decoder (conv, upsample2d, conv, upsample2d, conv, upsample2d, conv)"
      ]
    },
    {
      "cell_type": "code",
      "metadata": {
        "id": "qY2XHmSazS3P",
        "colab_type": "code",
        "colab": {}
      },
      "source": [
        "#Convolutional model\n",
        "\n",
        "inputs = keras.Input(shape=(28,28))\n",
        "inputs1 = keras.layers.Reshape([28, 28, 1])(inputs)\n",
        "# Ecoding\n",
        "conv1_1 = keras.layers.Conv2D(16, (3, 3), padding='same', activation='selu' )(inputs1) \n",
        "pool1 = keras.layers.MaxPooling2D(pool_size=(2,2))(conv1_1) \n",
        "conv1_2 = keras.layers.Conv2D(32,(3, 3), padding='same', activation='selu')(pool1) \n",
        "pool2 = keras.layers.MaxPooling2D(pool_size=(2,2))(conv1_2)\n",
        "conv1_3 = keras.layers.Conv2D(64,(3, 3), padding='same', activation='selu')(pool2)\n",
        "#encoder = keras.layers.MaxPooling2D(pool_size=(2,2))(conv1_3)\n",
        "\n",
        "# Decoding\n",
        "conv2_1 = keras.layers.Conv2D(32,(3, 3),  padding=\"same\", activation='selu')(conv1_3)\n",
        "unsamp1 = keras.layers.UpSampling2D((2, 2))(conv2_1)\n",
        "#conv2_2 = keras.layers.Conv2D(32,(3, 3), padding='same', activation='selu')(unsamp1)\n",
        "#unsamp2 = keras.layers.UpSampling2D((2, 2))(conv2_2) \n",
        "conv2_3 = keras.layers.Conv2D(16,(3, 3), padding='same', activation='selu')(unsamp1) \n",
        "unsamp3 = keras.layers.UpSampling2D((2, 2))(conv2_3)\n",
        "conv2_4 = keras.layers.Conv2D(1, (3, 3), activation='sigmoid', padding='same')(unsamp3)\n",
        "\n",
        "outputs = keras.layers.Reshape([28, 28])(conv2_4)\n"
      ],
      "execution_count": 0,
      "outputs": []
    },
    {
      "cell_type": "code",
      "metadata": {
        "id": "mNXZQr5iy_IF",
        "colab_type": "code",
        "colab": {
          "base_uri": "https://localhost:8080/",
          "height": 595
        },
        "outputId": "d1cfb62d-bdcc-4242-f933-642f2758d133"
      },
      "source": [
        "conv_ae = keras.Model(inputs,outputs)\n",
        "conv_ae.compile(loss=\"mean_squared_error\",optimizer='adam')\n",
        "conv_ae.summary()"
      ],
      "execution_count": 13,
      "outputs": [
        {
          "output_type": "stream",
          "text": [
            "Model: \"model_1\"\n",
            "_________________________________________________________________\n",
            "Layer (type)                 Output Shape              Param #   \n",
            "=================================================================\n",
            "input_2 (InputLayer)         [(None, 28, 28)]          0         \n",
            "_________________________________________________________________\n",
            "reshape_1 (Reshape)          (None, 28, 28, 1)         0         \n",
            "_________________________________________________________________\n",
            "conv2d (Conv2D)              (None, 28, 28, 16)        160       \n",
            "_________________________________________________________________\n",
            "max_pooling2d (MaxPooling2D) (None, 14, 14, 16)        0         \n",
            "_________________________________________________________________\n",
            "conv2d_1 (Conv2D)            (None, 14, 14, 32)        4640      \n",
            "_________________________________________________________________\n",
            "max_pooling2d_1 (MaxPooling2 (None, 7, 7, 32)          0         \n",
            "_________________________________________________________________\n",
            "conv2d_2 (Conv2D)            (None, 7, 7, 64)          18496     \n",
            "_________________________________________________________________\n",
            "conv2d_3 (Conv2D)            (None, 7, 7, 32)          18464     \n",
            "_________________________________________________________________\n",
            "up_sampling2d (UpSampling2D) (None, 14, 14, 32)        0         \n",
            "_________________________________________________________________\n",
            "conv2d_4 (Conv2D)            (None, 14, 14, 16)        4624      \n",
            "_________________________________________________________________\n",
            "up_sampling2d_1 (UpSampling2 (None, 28, 28, 16)        0         \n",
            "_________________________________________________________________\n",
            "conv2d_5 (Conv2D)            (None, 28, 28, 1)         145       \n",
            "_________________________________________________________________\n",
            "reshape_2 (Reshape)          (None, 28, 28)            0         \n",
            "=================================================================\n",
            "Total params: 46,529\n",
            "Trainable params: 46,529\n",
            "Non-trainable params: 0\n",
            "_________________________________________________________________\n"
          ],
          "name": "stdout"
        }
      ]
    },
    {
      "cell_type": "code",
      "metadata": {
        "id": "021SB83o0CtV",
        "colab_type": "code",
        "colab": {
          "base_uri": "https://localhost:8080/",
          "height": 714
        },
        "outputId": "097d945d-22cb-4bf0-bd97-73e036bb45a9"
      },
      "source": [
        "h_conv = conv_ae.fit(X_train, X_train, epochs=20,validation_data=[X_valid, X_valid])"
      ],
      "execution_count": 22,
      "outputs": [
        {
          "output_type": "stream",
          "text": [
            "Train on 53000 samples, validate on 7000 samples\n",
            "Epoch 1/20\n",
            "53000/53000 [==============================] - 136s 3ms/sample - loss: 0.0061 - val_loss: 0.0030\n",
            "Epoch 2/20\n",
            "53000/53000 [==============================] - 134s 3ms/sample - loss: 0.0023 - val_loss: 0.0020\n",
            "Epoch 3/20\n",
            "53000/53000 [==============================] - 131s 2ms/sample - loss: 0.0018 - val_loss: 0.0017\n",
            "Epoch 4/20\n",
            "53000/53000 [==============================] - 131s 2ms/sample - loss: 0.0016 - val_loss: 0.0015\n",
            "Epoch 5/20\n",
            "53000/53000 [==============================] - 134s 3ms/sample - loss: 0.0014 - val_loss: 0.0015\n",
            "Epoch 6/20\n",
            "53000/53000 [==============================] - 133s 3ms/sample - loss: 0.0013 - val_loss: 0.0013\n",
            "Epoch 7/20\n",
            "53000/53000 [==============================] - 129s 2ms/sample - loss: 0.0012 - val_loss: 0.0012\n",
            "Epoch 8/20\n",
            "53000/53000 [==============================] - 127s 2ms/sample - loss: 0.0012 - val_loss: 0.0012\n",
            "Epoch 9/20\n",
            "53000/53000 [==============================] - 131s 2ms/sample - loss: 0.0011 - val_loss: 0.0011\n",
            "Epoch 10/20\n",
            "53000/53000 [==============================] - 130s 2ms/sample - loss: 0.0011 - val_loss: 0.0011\n",
            "Epoch 11/20\n",
            "53000/53000 [==============================] - 131s 2ms/sample - loss: 0.0011 - val_loss: 0.0011\n",
            "Epoch 12/20\n",
            "53000/53000 [==============================] - 135s 3ms/sample - loss: 0.0010 - val_loss: 0.0011\n",
            "Epoch 13/20\n",
            "53000/53000 [==============================] - 131s 2ms/sample - loss: 0.0010 - val_loss: 0.0011\n",
            "Epoch 14/20\n",
            "53000/53000 [==============================] - 129s 2ms/sample - loss: 9.9790e-04 - val_loss: 0.0011\n",
            "Epoch 15/20\n",
            "53000/53000 [==============================] - 128s 2ms/sample - loss: 9.8170e-04 - val_loss: 0.0010\n",
            "Epoch 16/20\n",
            "53000/53000 [==============================] - 127s 2ms/sample - loss: 9.6651e-04 - val_loss: 0.0010\n",
            "Epoch 17/20\n",
            "53000/53000 [==============================] - 129s 2ms/sample - loss: 9.5063e-04 - val_loss: 9.5738e-04\n",
            "Epoch 18/20\n",
            "53000/53000 [==============================] - 127s 2ms/sample - loss: 9.4225e-04 - val_loss: 9.5346e-04\n",
            "Epoch 19/20\n",
            "53000/53000 [==============================] - 143s 3ms/sample - loss: 9.2896e-04 - val_loss: 9.3425e-04\n",
            "Epoch 20/20\n",
            "53000/53000 [==============================] - 144s 3ms/sample - loss: 9.1845e-04 - val_loss: 9.9040e-04\n"
          ],
          "name": "stdout"
        }
      ]
    },
    {
      "cell_type": "code",
      "metadata": {
        "id": "9rrhPIi_TiW-",
        "colab_type": "code",
        "colab": {
          "base_uri": "https://localhost:8080/",
          "height": 191
        },
        "outputId": "16624853-8384-47e8-d7db-da12da0351c0"
      },
      "source": [
        "show_reconstructions(conv_ae)"
      ],
      "execution_count": 23,
      "outputs": [
        {
          "output_type": "display_data",
          "data": {
            "image/png": "[encoded data removed]",
            "text/plain": [
              "<Figure size 1080x216 with 20 Axes>"
            ]
          },
          "metadata": {
            "tags": []
          }
        }
      ]
    },
    {
      "cell_type": "markdown",
      "metadata": {
        "id": "wYigs-SWcQm-",
        "colab_type": "text"
      },
      "source": [
        "Convolutional Encoder with Conv2DTranspose"
      ]
    },
    {
      "cell_type": "code",
      "metadata": {
        "id": "rEBQe_a-OogB",
        "colab_type": "code",
        "colab": {
          "base_uri": "https://localhost:8080/",
          "height": 561
        },
        "outputId": "81690fd1-c1c9-44bd-83e6-789dc6bf0ff8"
      },
      "source": [
        "inputs = keras.Input(shape=(28,28))\n",
        "# Ecoding\n",
        "inputs1 = keras.layers.Reshape([28, 28, 1])(inputs)\n",
        "conv1_1 = keras.layers.Conv2D(16, (3,3), padding=\"same\", activation=\"selu\")(inputs1) \n",
        "pool1 = keras.layers.MaxPool2D(pool_size=2)(conv1_1)\n",
        "conv1_2 = keras.layers.Conv2D(32, (3,3), padding=\"same\", activation=\"selu\")(pool1)\n",
        "pool2 = keras.layers.MaxPool2D(pool_size=2)(conv1_2)\n",
        "conv1_3 = keras.layers.Conv2D(64, (3,3), padding=\"same\", activation=\"selu\")(pool2)\n",
        "pool3 = keras.layers.MaxPool2D(pool_size=2)(conv1_3)\n",
        "# Decoding\n",
        "conv2_1 = keras.layers.Conv2DTranspose(32, (3,3), strides=2, padding=\"valid\", activation=\"selu\",input_shape=[3, 3, 64])(pool3)\n",
        "conv2_2 = keras.layers.Conv2DTranspose(16, (3,3), strides=2, padding=\"same\",activation=\"selu\")(conv2_1)\n",
        "conv2_3 = keras.layers.Conv2DTranspose(1, (3,3), strides=2, padding=\"same\", activation=\"sigmoid\")(conv2_2)\n",
        "outputs = keras.layers.Reshape([28, 28])(conv2_3)\n",
        "\n",
        "conv_ae1 = keras.models.Model(inputs, outputs)\n",
        "conv_ae1.compile(loss=\"mean_squared_error\",optimizer='adam')\n",
        "conv_ae1.summary()"
      ],
      "execution_count": 16,
      "outputs": [
        {
          "output_type": "stream",
          "text": [
            "Model: \"model_2\"\n",
            "_________________________________________________________________\n",
            "Layer (type)                 Output Shape              Param #   \n",
            "=================================================================\n",
            "input_3 (InputLayer)         [(None, 28, 28)]          0         \n",
            "_________________________________________________________________\n",
            "reshape_3 (Reshape)          (None, 28, 28, 1)         0         \n",
            "_________________________________________________________________\n",
            "conv2d_6 (Conv2D)            (None, 28, 28, 16)        160       \n",
            "_________________________________________________________________\n",
            "max_pooling2d_2 (MaxPooling2 (None, 14, 14, 16)        0         \n",
            "_________________________________________________________________\n",
            "conv2d_7 (Conv2D)            (None, 14, 14, 32)        4640      \n",
            "_________________________________________________________________\n",
            "max_pooling2d_3 (MaxPooling2 (None, 7, 7, 32)          0         \n",
            "_________________________________________________________________\n",
            "conv2d_8 (Conv2D)            (None, 7, 7, 64)          18496     \n",
            "_________________________________________________________________\n",
            "max_pooling2d_4 (MaxPooling2 (None, 3, 3, 64)          0         \n",
            "_________________________________________________________________\n",
            "conv2d_transpose (Conv2DTran (None, 7, 7, 32)          18464     \n",
            "_________________________________________________________________\n",
            "conv2d_transpose_1 (Conv2DTr (None, 14, 14, 16)        4624      \n",
            "_________________________________________________________________\n",
            "conv2d_transpose_2 (Conv2DTr (None, 28, 28, 1)         145       \n",
            "_________________________________________________________________\n",
            "reshape_4 (Reshape)          (None, 28, 28)            0         \n",
            "=================================================================\n",
            "Total params: 46,529\n",
            "Trainable params: 46,529\n",
            "Non-trainable params: 0\n",
            "_________________________________________________________________\n"
          ],
          "name": "stdout"
        }
      ]
    },
    {
      "cell_type": "code",
      "metadata": {
        "id": "C_iYfBORPJJg",
        "colab_type": "code",
        "colab": {
          "base_uri": "https://localhost:8080/",
          "height": 714
        },
        "outputId": "2e32c700-4e0b-44d1-fafb-cd5331e875be"
      },
      "source": [
        "h_conv_ae1 = conv_ae1.fit(X_train, X_train, epochs=20,validation_data=[X_valid, X_valid])"
      ],
      "execution_count": 17,
      "outputs": [
        {
          "output_type": "stream",
          "text": [
            "Train on 53000 samples, validate on 7000 samples\n",
            "Epoch 1/20\n",
            "53000/53000 [==============================] - 71s 1ms/sample - loss: 0.0195 - val_loss: 0.0076\n",
            "Epoch 2/20\n",
            "53000/53000 [==============================] - 70s 1ms/sample - loss: 0.0061 - val_loss: 0.0052\n",
            "Epoch 3/20\n",
            "53000/53000 [==============================] - 71s 1ms/sample - loss: 0.0047 - val_loss: 0.0043\n",
            "Epoch 4/20\n",
            "53000/53000 [==============================] - 72s 1ms/sample - loss: 0.0040 - val_loss: 0.0038\n",
            "Epoch 5/20\n",
            "53000/53000 [==============================] - 74s 1ms/sample - loss: 0.0035 - val_loss: 0.0034\n",
            "Epoch 6/20\n",
            "53000/53000 [==============================] - 71s 1ms/sample - loss: 0.0031 - val_loss: 0.0031\n",
            "Epoch 7/20\n",
            "53000/53000 [==============================] - 73s 1ms/sample - loss: 0.0029 - val_loss: 0.0029\n",
            "Epoch 8/20\n",
            "53000/53000 [==============================] - 72s 1ms/sample - loss: 0.0027 - val_loss: 0.0028\n",
            "Epoch 9/20\n",
            "53000/53000 [==============================] - 74s 1ms/sample - loss: 0.0026 - val_loss: 0.0026\n",
            "Epoch 10/20\n",
            "53000/53000 [==============================] - 68s 1ms/sample - loss: 0.0025 - val_loss: 0.0025\n",
            "Epoch 11/20\n",
            "53000/53000 [==============================] - 72s 1ms/sample - loss: 0.0024 - val_loss: 0.0024\n",
            "Epoch 12/20\n",
            "53000/53000 [==============================] - 72s 1ms/sample - loss: 0.0023 - val_loss: 0.0024\n",
            "Epoch 13/20\n",
            "53000/53000 [==============================] - 69s 1ms/sample - loss: 0.0022 - val_loss: 0.0024\n",
            "Epoch 14/20\n",
            "53000/53000 [==============================] - 71s 1ms/sample - loss: 0.0022 - val_loss: 0.0023\n",
            "Epoch 15/20\n",
            "53000/53000 [==============================] - 71s 1ms/sample - loss: 0.0021 - val_loss: 0.0023\n",
            "Epoch 16/20\n",
            "53000/53000 [==============================] - 71s 1ms/sample - loss: 0.0021 - val_loss: 0.0023\n",
            "Epoch 17/20\n",
            "53000/53000 [==============================] - 71s 1ms/sample - loss: 0.0021 - val_loss: 0.0021\n",
            "Epoch 18/20\n",
            "53000/53000 [==============================] - 71s 1ms/sample - loss: 0.0020 - val_loss: 0.0022\n",
            "Epoch 19/20\n",
            "53000/53000 [==============================] - 70s 1ms/sample - loss: 0.0020 - val_loss: 0.0020\n",
            "Epoch 20/20\n",
            "53000/53000 [==============================] - 72s 1ms/sample - loss: 0.0020 - val_loss: 0.0020\n"
          ],
          "name": "stdout"
        }
      ]
    },
    {
      "cell_type": "code",
      "metadata": {
        "id": "0bksmQOn3pea",
        "colab_type": "code",
        "colab": {
          "base_uri": "https://localhost:8080/",
          "height": 191
        },
        "outputId": "e7b2ad5d-ad75-4e79-d2cd-7f32405ea558"
      },
      "source": [
        "show_reconstructions(conv_ae1)"
      ],
      "execution_count": 18,
      "outputs": [
        {
          "output_type": "display_data",
          "data": {
            "image/png": "[encoded data removed]",
            "text/plain": [
              "<Figure size 1080x216 with 20 Axes>"
            ]
          },
          "metadata": {
            "tags": []
          }
        }
      ]
    },
    {
      "cell_type": "markdown",
      "metadata": {
        "id": "tRoxaygh3r1p",
        "colab_type": "text"
      },
      "source": [
        "3.Variational Autoencoder"
      ]
    },
    {
      "cell_type": "code",
      "metadata": {
        "id": "DdNZVTPj4AYh",
        "colab_type": "code",
        "colab": {}
      },
      "source": [
        "K = keras.backend\n",
        "class Sampling(keras.layers.Layer):\n",
        "    def call(self, inputs):\n",
        "        mean, log_var = inputs\n",
        "        return K.random_normal(tf.shape(log_var)) * K.exp(log_var / 2) + mean "
      ],
      "execution_count": 0,
      "outputs": []
    },
    {
      "cell_type": "code",
      "metadata": {
        "id": "ETwImVpZ4AxH",
        "colab_type": "code",
        "outputId": "8bb3240b-827b-490a-8e8e-7d6235d241c0",
        "colab": {
          "base_uri": "https://localhost:8080/",
          "height": 884
        }
      },
      "source": [
        "tf.random.set_seed(42)\n",
        "np.random.seed(42)\n",
        "\n",
        "codings_size = 10\n",
        "\n",
        "inputs = keras.layers.Input(shape=[28, 28])\n",
        "z = keras.layers.Flatten()(inputs)\n",
        "z = keras.layers.Dense(150, activation=\"selu\")(z)\n",
        "z = keras.layers.Dense(100, activation=\"selu\")(z)\n",
        "codings_mean = keras.layers.Dense(codings_size)(z)\n",
        "codings_log_var = keras.layers.Dense(codings_size)(z)\n",
        "codings = Sampling()([codings_mean, codings_log_var])\n",
        "variational_encoder = keras.models.Model(\n",
        "    inputs=[inputs], outputs=[codings_mean, codings_log_var, codings])\n",
        "\n",
        "decoder_inputs = keras.layers.Input(shape=[codings_size])\n",
        "x = keras.layers.Dense(100, activation=\"selu\")(decoder_inputs)\n",
        "x = keras.layers.Dense(150, activation=\"selu\")(x)\n",
        "x = keras.layers.Dense(28 * 28, activation=\"sigmoid\")(x)\n",
        "outputs = keras.layers.Reshape([28, 28])(x)\n",
        "variational_decoder = keras.models.Model(inputs=[decoder_inputs], outputs=[outputs])\n",
        "\n",
        "_, _, codings = variational_encoder(inputs)\n",
        "reconstructions = variational_decoder(codings)\n",
        "variational_ae = keras.models.Model(inputs=[inputs], outputs=[reconstructions])\n",
        "\n",
        "latent_loss = -0.5 * K.sum(\n",
        "    1 + codings_log_var - K.exp(codings_log_var) - K.square(codings_mean),\n",
        "    axis=-1)\n",
        "variational_ae.add_loss(K.mean(latent_loss) / 784.)\n",
        "variational_ae.compile(loss=\"binary_crossentropy\", optimizer=\"rmsprop\")\n",
        "h_vae = variational_ae.fit(X_train, X_train, epochs=25, batch_size=128,\n",
        "                             validation_data=[X_valid, X_valid])"
      ],
      "execution_count": 20,
      "outputs": [
        {
          "output_type": "stream",
          "text": [
            "Train on 53000 samples, validate on 7000 samples\n",
            "Epoch 1/25\n",
            "53000/53000 [==============================] - 9s 161us/sample - loss: 0.2258 - val_loss: 0.1924\n",
            "Epoch 2/25\n",
            "53000/53000 [==============================] - 7s 137us/sample - loss: 0.1788 - val_loss: 0.1777\n",
            "Epoch 3/25\n",
            "53000/53000 [==============================] - 7s 132us/sample - loss: 0.1670 - val_loss: 0.1696\n",
            "Epoch 4/25\n",
            "53000/53000 [==============================] - 7s 137us/sample - loss: 0.1611 - val_loss: 0.1629\n",
            "Epoch 5/25\n",
            "53000/53000 [==============================] - 7s 134us/sample - loss: 0.1576 - val_loss: 0.1660\n",
            "Epoch 6/25\n",
            "53000/53000 [==============================] - 8s 143us/sample - loss: 0.1551 - val_loss: 0.1601\n",
            "Epoch 7/25\n",
            "53000/53000 [==============================] - 7s 139us/sample - loss: 0.1533 - val_loss: 0.1593\n",
            "Epoch 8/25\n",
            "53000/53000 [==============================] - 7s 137us/sample - loss: 0.1519 - val_loss: 0.1531\n",
            "Epoch 9/25\n",
            "53000/53000 [==============================] - 7s 139us/sample - loss: 0.1506 - val_loss: 0.1574\n",
            "Epoch 10/25\n",
            "53000/53000 [==============================] - 7s 136us/sample - loss: 0.1496 - val_loss: 0.1551\n",
            "Epoch 11/25\n",
            "53000/53000 [==============================] - 7s 132us/sample - loss: 0.1486 - val_loss: 0.1531\n",
            "Epoch 12/25\n",
            "53000/53000 [==============================] - 7s 137us/sample - loss: 0.1478 - val_loss: 0.1509\n",
            "Epoch 13/25\n",
            "53000/53000 [==============================] - 7s 136us/sample - loss: 0.1471 - val_loss: 0.1541\n",
            "Epoch 14/25\n",
            "53000/53000 [==============================] - 7s 133us/sample - loss: 0.1464 - val_loss: 0.1540\n",
            "Epoch 15/25\n",
            "53000/53000 [==============================] - 7s 134us/sample - loss: 0.1458 - val_loss: 0.1517\n",
            "Epoch 16/25\n",
            "53000/53000 [==============================] - 7s 135us/sample - loss: 0.1451 - val_loss: 0.1524\n",
            "Epoch 17/25\n",
            "53000/53000 [==============================] - 7s 132us/sample - loss: 0.1446 - val_loss: 0.1510\n",
            "Epoch 18/25\n",
            "53000/53000 [==============================] - 7s 131us/sample - loss: 0.1441 - val_loss: 0.1548\n",
            "Epoch 19/25\n",
            "53000/53000 [==============================] - 7s 132us/sample - loss: 0.1437 - val_loss: 0.1507\n",
            "Epoch 20/25\n",
            "53000/53000 [==============================] - 7s 137us/sample - loss: 0.1432 - val_loss: 0.1514\n",
            "Epoch 21/25\n",
            "53000/53000 [==============================] - 7s 130us/sample - loss: 0.1428 - val_loss: 0.1515\n",
            "Epoch 22/25\n",
            "53000/53000 [==============================] - 7s 133us/sample - loss: 0.1425 - val_loss: 0.1463\n",
            "Epoch 23/25\n",
            "53000/53000 [==============================] - 7s 129us/sample - loss: 0.1422 - val_loss: 0.1485\n",
            "Epoch 24/25\n",
            "53000/53000 [==============================] - 7s 132us/sample - loss: 0.1418 - val_loss: 0.1510\n",
            "Epoch 25/25\n",
            "53000/53000 [==============================] - 7s 138us/sample - loss: 0.1415 - val_loss: 0.1491\n"
          ],
          "name": "stdout"
        }
      ]
    },
    {
      "cell_type": "code",
      "metadata": {
        "id": "3UQft5TX4BIH",
        "colab_type": "code",
        "colab": {
          "base_uri": "https://localhost:8080/",
          "height": 191
        },
        "outputId": "9a189d42-856c-4ba1-f3f5-a485ba2446fd"
      },
      "source": [
        "show_reconstructions(variational_ae)"
      ],
      "execution_count": 21,
      "outputs": [
        {
          "output_type": "display_data",
          "data": {
            "image/png": "[encoded data removed]",
            "text/plain": [
              "<Figure size 1080x216 with 20 Axes>"
            ]
          },
          "metadata": {
            "tags": []
          }
        }
      ]
    },
    {
      "cell_type": "code",
      "metadata": {
        "id": "yGGw30m0SIJj",
        "colab_type": "code",
        "colab": {}
      },
      "source": [
        ""
      ],
      "execution_count": 0,
      "outputs": []
    }
  ]
}