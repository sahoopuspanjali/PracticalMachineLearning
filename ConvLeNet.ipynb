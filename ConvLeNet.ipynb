{
  "nbformat": 4,
  "nbformat_minor": 0,
  "metadata": {
    "colab": {
      "name": "ConvLeNet.ipynb",
      "provenance": [],
      "include_colab_link": true
    },
    "kernelspec": {
      "name": "python3",
      "display_name": "Python 3"
    }
  },
  "cells": [
    {
      "cell_type": "markdown",
      "metadata": {
        "id": "view-in-github",
        "colab_type": "text"
      },
      "source": [
        "<a href=\"https://colab.research.google.com/github/sahoopuspanjali/PracticalMachineLearning/blob/master/ConvLeNet.ipynb\" target=\"_parent\"><img src=\"https://colab.research.google.com/assets/colab-badge.svg\" alt=\"Open In Colab\"/></a>"
      ]
    },
    {
      "cell_type": "code",
      "metadata": {
        "id": "D1fqxpv8qd9L",
        "colab_type": "code",
        "outputId": "1e81bb2b-8707-4a6c-9b93-86aaada2ef10",
        "colab": {
          "base_uri": "https://localhost:8080/",
          "height": 1000
        }
      },
      "source": [
        "!pip install --upgrade tensorflow\n"
      ],
      "execution_count": 0,
      "outputs": [
        {
          "output_type": "stream",
          "text": [
            "Collecting tensorflow\n",
            "\u001b[?25l  Downloading https://files.pythonhosted.org/packages/46/0f/7bd55361168bb32796b360ad15a25de6966c9c1beb58a8e30c01c8279862/tensorflow-2.0.0-cp36-cp36m-manylinux2010_x86_64.whl (86.3MB)\n",
            "\u001b[K     |████████████████████████████████| 86.3MB 38kB/s \n",
            "\u001b[?25hRequirement already satisfied, skipping upgrade: keras-applications>=1.0.8 in /usr/local/lib/python3.6/dist-packages (from tensorflow) (1.0.8)\n",
            "Requirement already satisfied, skipping upgrade: grpcio>=1.8.6 in /usr/local/lib/python3.6/dist-packages (from tensorflow) (1.15.0)\n",
            "Collecting tensorboard<2.1.0,>=2.0.0\n",
            "\u001b[?25l  Downloading https://files.pythonhosted.org/packages/d3/9e/a48cd34dd7b672ffc227b566f7d16d63c62c58b542d54efa45848c395dd4/tensorboard-2.0.1-py3-none-any.whl (3.8MB)\n",
            "\u001b[K     |████████████████████████████████| 3.8MB 32.5MB/s \n",
            "\u001b[?25hCollecting tensorflow-estimator<2.1.0,>=2.0.0\n",
            "\u001b[?25l  Downloading https://files.pythonhosted.org/packages/fc/08/8b927337b7019c374719145d1dceba21a8bb909b93b1ad6f8fb7d22c1ca1/tensorflow_estimator-2.0.1-py2.py3-none-any.whl (449kB)\n",
            "\u001b[K     |████████████████████████████████| 450kB 43.6MB/s \n",
            "\u001b[?25hRequirement already satisfied, skipping upgrade: wrapt>=1.11.1 in /usr/local/lib/python3.6/dist-packages (from tensorflow) (1.11.2)\n",
            "Requirement already satisfied, skipping upgrade: termcolor>=1.1.0 in /usr/local/lib/python3.6/dist-packages (from tensorflow) (1.1.0)\n",
            "Requirement already satisfied, skipping upgrade: wheel>=0.26 in /usr/local/lib/python3.6/dist-packages (from tensorflow) (0.33.6)\n",
            "Requirement already satisfied, skipping upgrade: google-pasta>=0.1.6 in /usr/local/lib/python3.6/dist-packages (from tensorflow) (0.1.7)\n",
            "Requirement already satisfied, skipping upgrade: protobuf>=3.6.1 in /usr/local/lib/python3.6/dist-packages (from tensorflow) (3.10.0)\n",
            "Requirement already satisfied, skipping upgrade: six>=1.10.0 in /usr/local/lib/python3.6/dist-packages (from tensorflow) (1.12.0)\n",
            "Requirement already satisfied, skipping upgrade: absl-py>=0.7.0 in /usr/local/lib/python3.6/dist-packages (from tensorflow) (0.8.1)\n",
            "Requirement already satisfied, skipping upgrade: gast==0.2.2 in /usr/local/lib/python3.6/dist-packages (from tensorflow) (0.2.2)\n",
            "Requirement already satisfied, skipping upgrade: keras-preprocessing>=1.0.5 in /usr/local/lib/python3.6/dist-packages (from tensorflow) (1.1.0)\n",
            "Requirement already satisfied, skipping upgrade: opt-einsum>=2.3.2 in /usr/local/lib/python3.6/dist-packages (from tensorflow) (3.1.0)\n",
            "Requirement already satisfied, skipping upgrade: astor>=0.6.0 in /usr/local/lib/python3.6/dist-packages (from tensorflow) (0.8.0)\n",
            "Requirement already satisfied, skipping upgrade: numpy<2.0,>=1.16.0 in /usr/local/lib/python3.6/dist-packages (from tensorflow) (1.17.3)\n",
            "Requirement already satisfied, skipping upgrade: h5py in /usr/local/lib/python3.6/dist-packages (from keras-applications>=1.0.8->tensorflow) (2.8.0)\n",
            "Collecting google-auth<2,>=1.6.3\n",
            "\u001b[?25l  Downloading https://files.pythonhosted.org/packages/c5/9b/ed0516cc1f7609fb0217e3057ff4f0f9f3e3ce79a369c6af4a6c5ca25664/google_auth-1.6.3-py2.py3-none-any.whl (73kB)\n",
            "\u001b[K     |████████████████████████████████| 81kB 8.7MB/s \n",
            "\u001b[?25hRequirement already satisfied, skipping upgrade: google-auth-oauthlib<0.5,>=0.4.1 in /usr/local/lib/python3.6/dist-packages (from tensorboard<2.1.0,>=2.0.0->tensorflow) (0.4.1)\n",
            "Requirement already satisfied, skipping upgrade: werkzeug>=0.11.15 in /usr/local/lib/python3.6/dist-packages (from tensorboard<2.1.0,>=2.0.0->tensorflow) (0.16.0)\n",
            "Requirement already satisfied, skipping upgrade: setuptools>=41.0.0 in /usr/local/lib/python3.6/dist-packages (from tensorboard<2.1.0,>=2.0.0->tensorflow) (41.4.0)\n",
            "Requirement already satisfied, skipping upgrade: markdown>=2.6.8 in /usr/local/lib/python3.6/dist-packages (from tensorboard<2.1.0,>=2.0.0->tensorflow) (3.1.1)\n",
            "Requirement already satisfied, skipping upgrade: rsa>=3.1.4 in /usr/local/lib/python3.6/dist-packages (from google-auth<2,>=1.6.3->tensorboard<2.1.0,>=2.0.0->tensorflow) (4.0)\n",
            "Requirement already satisfied, skipping upgrade: cachetools>=2.0.0 in /usr/local/lib/python3.6/dist-packages (from google-auth<2,>=1.6.3->tensorboard<2.1.0,>=2.0.0->tensorflow) (3.1.1)\n",
            "Requirement already satisfied, skipping upgrade: pyasn1-modules>=0.2.1 in /usr/local/lib/python3.6/dist-packages (from google-auth<2,>=1.6.3->tensorboard<2.1.0,>=2.0.0->tensorflow) (0.2.7)\n",
            "Requirement already satisfied, skipping upgrade: requests-oauthlib>=0.7.0 in /usr/local/lib/python3.6/dist-packages (from google-auth-oauthlib<0.5,>=0.4.1->tensorboard<2.1.0,>=2.0.0->tensorflow) (1.2.0)\n",
            "Requirement already satisfied, skipping upgrade: pyasn1>=0.1.3 in /usr/local/lib/python3.6/dist-packages (from rsa>=3.1.4->google-auth<2,>=1.6.3->tensorboard<2.1.0,>=2.0.0->tensorflow) (0.4.7)\n",
            "Requirement already satisfied, skipping upgrade: requests>=2.0.0 in /usr/local/lib/python3.6/dist-packages (from requests-oauthlib>=0.7.0->google-auth-oauthlib<0.5,>=0.4.1->tensorboard<2.1.0,>=2.0.0->tensorflow) (2.21.0)\n",
            "Requirement already satisfied, skipping upgrade: oauthlib>=3.0.0 in /usr/local/lib/python3.6/dist-packages (from requests-oauthlib>=0.7.0->google-auth-oauthlib<0.5,>=0.4.1->tensorboard<2.1.0,>=2.0.0->tensorflow) (3.1.0)\n",
            "Requirement already satisfied, skipping upgrade: certifi>=2017.4.17 in /usr/local/lib/python3.6/dist-packages (from requests>=2.0.0->requests-oauthlib>=0.7.0->google-auth-oauthlib<0.5,>=0.4.1->tensorboard<2.1.0,>=2.0.0->tensorflow) (2019.9.11)\n",
            "Requirement already satisfied, skipping upgrade: urllib3<1.25,>=1.21.1 in /usr/local/lib/python3.6/dist-packages (from requests>=2.0.0->requests-oauthlib>=0.7.0->google-auth-oauthlib<0.5,>=0.4.1->tensorboard<2.1.0,>=2.0.0->tensorflow) (1.24.3)\n",
            "Requirement already satisfied, skipping upgrade: chardet<3.1.0,>=3.0.2 in /usr/local/lib/python3.6/dist-packages (from requests>=2.0.0->requests-oauthlib>=0.7.0->google-auth-oauthlib<0.5,>=0.4.1->tensorboard<2.1.0,>=2.0.0->tensorflow) (3.0.4)\n",
            "Requirement already satisfied, skipping upgrade: idna<2.9,>=2.5 in /usr/local/lib/python3.6/dist-packages (from requests>=2.0.0->requests-oauthlib>=0.7.0->google-auth-oauthlib<0.5,>=0.4.1->tensorboard<2.1.0,>=2.0.0->tensorflow) (2.8)\n",
            "\u001b[31mERROR: tensorboard 2.0.1 has requirement grpcio>=1.24.3, but you'll have grpcio 1.15.0 which is incompatible.\u001b[0m\n",
            "\u001b[31mERROR: google-colab 1.0.0 has requirement google-auth~=1.4.0, but you'll have google-auth 1.6.3 which is incompatible.\u001b[0m\n",
            "Installing collected packages: google-auth, tensorboard, tensorflow-estimator, tensorflow\n",
            "  Found existing installation: google-auth 1.4.2\n",
            "    Uninstalling google-auth-1.4.2:\n",
            "      Successfully uninstalled google-auth-1.4.2\n",
            "  Found existing installation: tensorboard 1.15.0\n",
            "    Uninstalling tensorboard-1.15.0:\n",
            "      Successfully uninstalled tensorboard-1.15.0\n",
            "  Found existing installation: tensorflow-estimator 1.15.1\n",
            "    Uninstalling tensorflow-estimator-1.15.1:\n",
            "      Successfully uninstalled tensorflow-estimator-1.15.1\n",
            "  Found existing installation: tensorflow 1.15.0\n",
            "    Uninstalling tensorflow-1.15.0:\n",
            "      Successfully uninstalled tensorflow-1.15.0\n",
            "Successfully installed google-auth-1.6.3 tensorboard-2.0.1 tensorflow-2.0.0 tensorflow-estimator-2.0.1\n"
          ],
          "name": "stdout"
        },
        {
          "output_type": "display_data",
          "data": {
            "application/vnd.colab-display-data+json": {
              "pip_warning": {
                "packages": [
                  "google"
                ]
              }
            }
          },
          "metadata": {
            "tags": []
          }
        }
      ]
    },
    {
      "cell_type": "code",
      "metadata": {
        "id": "n2CgmqbFqisI",
        "colab_type": "code",
        "outputId": "8be514a3-0cb0-4334-cb08-3270b1ded695",
        "colab": {
          "base_uri": "https://localhost:8080/",
          "height": 34
        }
      },
      "source": [
        "import tensorflow as tf\n",
        "tf.__version__"
      ],
      "execution_count": 0,
      "outputs": [
        {
          "output_type": "execute_result",
          "data": {
            "text/plain": [
              "'2.0.0'"
            ]
          },
          "metadata": {
            "tags": []
          },
          "execution_count": 2
        }
      ]
    },
    {
      "cell_type": "code",
      "metadata": {
        "id": "QfQUeOOtrEUm",
        "colab_type": "code",
        "colab": {}
      },
      "source": [
        "from tensorflow import keras\n",
        "from tensorflow.keras.layers import Dense\n",
        "from tensorflow.keras.datasets import mnist\n",
        "\n",
        "import matplotlib.pyplot as plt"
      ],
      "execution_count": 0,
      "outputs": []
    },
    {
      "cell_type": "code",
      "metadata": {
        "id": "ClXh1lxMrIuk",
        "colab_type": "code",
        "outputId": "3584207d-f398-4455-aa90-5caaf4fc4586",
        "colab": {
          "base_uri": "https://localhost:8080/",
          "height": 153
        }
      },
      "source": [
        "(X_train, y_train), (X_test, y_test) = keras.datasets.fashion_mnist.load_data()"
      ],
      "execution_count": 0,
      "outputs": [
        {
          "output_type": "stream",
          "text": [
            "Downloading data from https://storage.googleapis.com/tensorflow/tf-keras-datasets/train-labels-idx1-ubyte.gz\n",
            "32768/29515 [=================================] - 0s 0us/step\n",
            "Downloading data from https://storage.googleapis.com/tensorflow/tf-keras-datasets/train-images-idx3-ubyte.gz\n",
            "26427392/26421880 [==============================] - 0s 0us/step\n",
            "Downloading data from https://storage.googleapis.com/tensorflow/tf-keras-datasets/t10k-labels-idx1-ubyte.gz\n",
            "8192/5148 [===============================================] - 0s 0us/step\n",
            "Downloading data from https://storage.googleapis.com/tensorflow/tf-keras-datasets/t10k-images-idx3-ubyte.gz\n",
            "4423680/4422102 [==============================] - 0s 0us/step\n"
          ],
          "name": "stdout"
        }
      ]
    },
    {
      "cell_type": "code",
      "metadata": {
        "id": "a2x8WMRorLpQ",
        "colab_type": "code",
        "outputId": "7d97ffe1-1b77-4dfe-b061-d2dab983c5a4",
        "colab": {
          "base_uri": "https://localhost:8080/",
          "height": 284
        }
      },
      "source": [
        "fig = plt.figure()\n",
        "\n",
        "for i in range(9):\n",
        "  plt.subplot(3, 3, i+1)\n",
        "  plt.tight_layout()\n",
        "  plt.imshow(X_train[i], interpolation='none')\n",
        "  plt.title('Digit: {}'.format(y_train[i]))\n",
        "  plt.xticks([])\n",
        "  plt.yticks([])"
      ],
      "execution_count": 0,
      "outputs": [
        {
          "output_type": "display_data",
          "data": {
            "image/png": "[encoded data removed]",
            "text/plain": [
              "<Figure size 432x288 with 9 Axes>"
            ]
          },
          "metadata": {
            "tags": []
          }
        }
      ]
    },
    {
      "cell_type": "code",
      "metadata": {
        "id": "jVNM4lKArOaR",
        "colab_type": "code",
        "colab": {}
      },
      "source": [
        "X_train = X_train.reshape(60000,28,28,1)\n",
        "X_test = X_test.reshape(10000,28,28,1)"
      ],
      "execution_count": 0,
      "outputs": []
    },
    {
      "cell_type": "code",
      "metadata": {
        "id": "ZolOlMW4rV2i",
        "colab_type": "code",
        "outputId": "7b188f87-271f-4291-e23f-a1f723b69cbd",
        "colab": {
          "base_uri": "https://localhost:8080/",
          "height": 34
        }
      },
      "source": [
        "X_train.shape"
      ],
      "execution_count": 0,
      "outputs": [
        {
          "output_type": "execute_result",
          "data": {
            "text/plain": [
              "(60000, 28, 28, 1)"
            ]
          },
          "metadata": {
            "tags": []
          },
          "execution_count": 8
        }
      ]
    },
    {
      "cell_type": "code",
      "metadata": {
        "id": "JfJCYhZErZFu",
        "colab_type": "code",
        "colab": {}
      },
      "source": [
        "inputs = keras.Input(shape=(28,28,1))\n",
        "l1 = keras.layers.Conv2D(filters = 6, kernel_size = 5, strides = 1, activation = 'relu', input_shape = (28,28,1))(inputs)\n",
        "l2 = keras.layers.MaxPooling2D(pool_size = 2, strides = 2)(l1)\n",
        "l3 = keras.layers.Conv2D(filters = 16, kernel_size = 5, strides = 1, activation = 'relu', input_shape = (28,28,1))(l2)\n",
        "l4 = keras.layers.MaxPooling2D(pool_size = 2, strides = 2)(l3)\n",
        "l5 = keras.layers.Flatten()(l4)\n",
        "l6 = keras.layers.Dense(units = 120, activation = 'relu')(l5)\n",
        "l7 = keras.layers.Dense(units = 84, activation = 'relu')(l6)\n",
        "outputs = keras.layers.Dense(units = 10, activation = 'softmax')(l7)"
      ],
      "execution_count": 0,
      "outputs": []
    },
    {
      "cell_type": "code",
      "metadata": {
        "id": "W-z_oV5hrcs6",
        "colab_type": "code",
        "colab": {}
      },
      "source": [
        "func_model = keras.Model(inputs,outputs)\n",
        "func_model.compile(optimizer = 'adam', loss = 'sparse_categorical_crossentropy', metrics = ['accuracy'] )"
      ],
      "execution_count": 0,
      "outputs": []
    },
    {
      "cell_type": "code",
      "metadata": {
        "id": "gL7m7tSbrmaN",
        "colab_type": "code",
        "outputId": "2fa199cc-1edc-43a6-d26e-814815e6fedf",
        "colab": {
          "base_uri": "https://localhost:8080/",
          "height": 1000
        }
      },
      "source": [
        "h = func_model.fit(X_train, y_train, epochs=30, validation_split=0.2)"
      ],
      "execution_count": 0,
      "outputs": [
        {
          "output_type": "stream",
          "text": [
            "Train on 48000 samples, validate on 12000 samples\n",
            "Epoch 1/30\n",
            "48000/48000 [==============================] - 30s 624us/sample - loss: 0.1370 - accuracy: 0.9522 - val_loss: 0.6303 - val_accuracy: 0.8866\n",
            "Epoch 2/30\n",
            "48000/48000 [==============================] - 30s 633us/sample - loss: 0.1466 - accuracy: 0.9487 - val_loss: 0.6226 - val_accuracy: 0.8910\n",
            "Epoch 3/30\n",
            "48000/48000 [==============================] - 30s 631us/sample - loss: 0.1654 - accuracy: 0.9464 - val_loss: 0.6593 - val_accuracy: 0.8862\n",
            "Epoch 4/30\n",
            "48000/48000 [==============================] - 30s 634us/sample - loss: 0.1280 - accuracy: 0.9542 - val_loss: 0.7085 - val_accuracy: 0.8823\n",
            "Epoch 5/30\n",
            "48000/48000 [==============================] - 30s 635us/sample - loss: 0.1323 - accuracy: 0.9540 - val_loss: 0.6580 - val_accuracy: 0.8922\n",
            "Epoch 6/30\n",
            "48000/48000 [==============================] - 30s 635us/sample - loss: 0.1259 - accuracy: 0.9560 - val_loss: 0.5511 - val_accuracy: 0.8844\n",
            "Epoch 7/30\n",
            "48000/48000 [==============================] - 30s 635us/sample - loss: 0.1542 - accuracy: 0.9490 - val_loss: 0.6108 - val_accuracy: 0.8886\n",
            "Epoch 8/30\n",
            "48000/48000 [==============================] - 31s 637us/sample - loss: 0.1389 - accuracy: 0.9523 - val_loss: 0.7489 - val_accuracy: 0.8654\n",
            "Epoch 9/30\n",
            "48000/48000 [==============================] - 29s 604us/sample - loss: 0.1235 - accuracy: 0.9563 - val_loss: 0.7028 - val_accuracy: 0.8833\n",
            "Epoch 10/30\n",
            "48000/48000 [==============================] - 27s 568us/sample - loss: 0.1260 - accuracy: 0.9562 - val_loss: 0.6968 - val_accuracy: 0.8781\n",
            "Epoch 11/30\n",
            "48000/48000 [==============================] - 27s 561us/sample - loss: 0.1275 - accuracy: 0.9557 - val_loss: 0.6710 - val_accuracy: 0.8828\n",
            "Epoch 12/30\n",
            "48000/48000 [==============================] - 27s 569us/sample - loss: 0.1269 - accuracy: 0.9550 - val_loss: 0.6797 - val_accuracy: 0.8874\n",
            "Epoch 13/30\n",
            "48000/48000 [==============================] - 28s 576us/sample - loss: 0.1225 - accuracy: 0.9575 - val_loss: 0.7082 - val_accuracy: 0.8866\n",
            "Epoch 14/30\n",
            "48000/48000 [==============================] - 27s 567us/sample - loss: 0.1399 - accuracy: 0.9526 - val_loss: 0.7017 - val_accuracy: 0.8880\n",
            "Epoch 15/30\n",
            "48000/48000 [==============================] - 27s 567us/sample - loss: 0.1364 - accuracy: 0.9551 - val_loss: 0.6854 - val_accuracy: 0.8858\n",
            "Epoch 16/30\n",
            "48000/48000 [==============================] - 27s 568us/sample - loss: 0.1308 - accuracy: 0.9555 - val_loss: 0.6923 - val_accuracy: 0.8784\n",
            "Epoch 17/30\n",
            "48000/48000 [==============================] - 27s 561us/sample - loss: 0.1186 - accuracy: 0.9591 - val_loss: 0.6783 - val_accuracy: 0.8934\n",
            "Epoch 18/30\n",
            "48000/48000 [==============================] - 27s 561us/sample - loss: 0.1314 - accuracy: 0.9558 - val_loss: 0.6712 - val_accuracy: 0.8891\n",
            "Epoch 19/30\n",
            "48000/48000 [==============================] - 27s 557us/sample - loss: 0.1224 - accuracy: 0.9584 - val_loss: 0.7780 - val_accuracy: 0.8898\n",
            "Epoch 20/30\n",
            "48000/48000 [==============================] - 27s 556us/sample - loss: 0.1371 - accuracy: 0.9550 - val_loss: 0.6966 - val_accuracy: 0.8848\n",
            "Epoch 21/30\n",
            "48000/48000 [==============================] - 27s 557us/sample - loss: 0.1198 - accuracy: 0.9574 - val_loss: 0.8071 - val_accuracy: 0.8853\n",
            "Epoch 22/30\n",
            "48000/48000 [==============================] - 27s 559us/sample - loss: 0.1333 - accuracy: 0.9557 - val_loss: 0.7004 - val_accuracy: 0.8821\n",
            "Epoch 23/30\n",
            "48000/48000 [==============================] - 27s 557us/sample - loss: 0.1477 - accuracy: 0.9524 - val_loss: 0.7172 - val_accuracy: 0.8818\n",
            "Epoch 24/30\n",
            "48000/48000 [==============================] - 27s 560us/sample - loss: 0.1138 - accuracy: 0.9608 - val_loss: 0.8119 - val_accuracy: 0.8807\n",
            "Epoch 25/30\n",
            "48000/48000 [==============================] - 27s 563us/sample - loss: 0.1163 - accuracy: 0.9602 - val_loss: 0.7502 - val_accuracy: 0.8884\n",
            "Epoch 26/30\n",
            "48000/48000 [==============================] - 27s 558us/sample - loss: 0.1288 - accuracy: 0.9567 - val_loss: 0.7678 - val_accuracy: 0.8867\n",
            "Epoch 27/30\n",
            "48000/48000 [==============================] - 27s 559us/sample - loss: 0.1261 - accuracy: 0.9599 - val_loss: 0.8602 - val_accuracy: 0.8821\n",
            "Epoch 28/30\n",
            "48000/48000 [==============================] - 27s 560us/sample - loss: 0.1293 - accuracy: 0.9576 - val_loss: 0.8042 - val_accuracy: 0.8852\n",
            "Epoch 29/30\n",
            "48000/48000 [==============================] - 26s 552us/sample - loss: 0.1313 - accuracy: 0.9572 - val_loss: 0.8098 - val_accuracy: 0.8842\n",
            "Epoch 30/30\n",
            "48000/48000 [==============================] - 27s 561us/sample - loss: 0.1315 - accuracy: 0.9584 - val_loss: 0.7882 - val_accuracy: 0.8859\n"
          ],
          "name": "stdout"
        }
      ]
    },
    {
      "cell_type": "code",
      "metadata": {
        "id": "08fHqFs9rqNK",
        "colab_type": "code",
        "outputId": "27acc049-c3ba-4c43-80e1-4b779310d525",
        "colab": {
          "base_uri": "https://localhost:8080/",
          "height": 265
        }
      },
      "source": [
        "plt.plot(h.history['accuracy'])\n",
        "plt.plot(h.history['val_accuracy'])\n",
        "plt.show()"
      ],
      "execution_count": 0,
      "outputs": [
        {
          "output_type": "display_data",
          "data": {
            "image/png": "[encoded data removed]",
            "text/plain": [
              "<Figure size 432x288 with 1 Axes>"
            ]
          },
          "metadata": {
            "tags": []
          }
        }
      ]
    },
    {
      "cell_type": "code",
      "metadata": {
        "id": "vcjJV2Y_uL5h",
        "colab_type": "code",
        "colab": {}
      },
      "source": [
        ""
      ],
      "execution_count": 0,
      "outputs": []
    }
  ]
}